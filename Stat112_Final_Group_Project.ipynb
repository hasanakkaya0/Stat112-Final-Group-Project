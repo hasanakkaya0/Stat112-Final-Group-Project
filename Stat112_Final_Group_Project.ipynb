{
  "nbformat": 4,
  "nbformat_minor": 0,
  "metadata": {
    "colab": {
      "provenance": [],
      "include_colab_link": true
    },
    "kernelspec": {
      "name": "python3",
      "display_name": "Python 3"
    },
    "language_info": {
      "name": "python"
    }
  },
  "cells": [
    {
      "cell_type": "markdown",
      "metadata": {
        "id": "view-in-github",
        "colab_type": "text"
      },
      "source": [
        "<a href=\"https://colab.research.google.com/github/hasanakkaya0/Stat112-Final-Group-Project/blob/main/Stat112_Final_Group_Project.ipynb\" target=\"_parent\"><img src=\"https://colab.research.google.com/assets/colab-badge.svg\" alt=\"Open In Colab\"/></a>"
      ]
    },
    {
      "cell_type": "code",
      "source": [
        "# specifying the file path\n",
        "from google.colab import drive\n",
        "drive.mount('/content/drive')\n",
        "file_path = \"/content/drive/My Drive/airline_passenger_satisfaction.csv\""
      ],
      "metadata": {
        "id": "5-D4WaLL1iog",
        "colab": {
          "base_uri": "https://localhost:8080/"
        },
        "outputId": "beb9402e-fa89-46ba-aa5e-99a393cae8e1"
      },
      "execution_count": 1,
      "outputs": [
        {
          "output_type": "stream",
          "name": "stdout",
          "text": [
            "Drive already mounted at /content/drive; to attempt to forcibly remount, call drive.mount(\"/content/drive\", force_remount=True).\n"
          ]
        }
      ]
    },
    {
      "cell_type": "code",
      "source": [
        "# importing the packages\n",
        "import pandas as pd\n",
        "import numpy as np"
      ],
      "metadata": {
        "id": "G-kWjSz43vy2"
      },
      "execution_count": 2,
      "outputs": []
    },
    {
      "cell_type": "code",
      "source": [
        "# we converted the specified CSV file into a DataFrame named dirty_data and specified that the delimiter to be used is a (;) semicolon.\n",
        "dirty_data = pd.read_csv(file_path, sep=';')"
      ],
      "metadata": {
        "id": "wTpVbqpz37p0"
      },
      "execution_count": 3,
      "outputs": []
    },
    {
      "cell_type": "code",
      "source": [
        "# first five observations\n",
        "dirty_data.head()"
      ],
      "metadata": {
        "colab": {
          "base_uri": "https://localhost:8080/",
          "height": 276
        },
        "id": "Dw-PDCPSWAd9",
        "outputId": "c7ddcea7-f233-4717-babd-b30118a42950"
      },
      "execution_count": 4,
      "outputs": [
        {
          "output_type": "execute_result",
          "data": {
            "text/plain": [
              "   Gender      Customer Type  #Age   Type of Travel     Class  \\\n",
              "0    Male  Disloyal Customer  43.0  Business Travel       Eco   \n",
              "1  Female     Loyal Customer  65.0  Business Travel       Eco   \n",
              "2    Male     Loyal Customer  21.0  Business Travel       Eco   \n",
              "3    Male  Disloyal Customer  39.0  Business Travel  Eco_Plus   \n",
              "4    Male  Disloyal Customer  46.0  Business Travel  Business   \n",
              "\n",
              "   //Flight Distance\\\\\\  #Departure Delay in Minutes  \\\n",
              "0                1936.0                         26.0   \n",
              "1                1016.0                          4.0   \n",
              "2                1460.0                         13.0   \n",
              "3                1349.0                          0.0   \n",
              "4                 997.0                          2.0   \n",
              "\n",
              "   #arrival delay in minutes  Inflight Wifi Service  $$Food_and_Drink##  \\\n",
              "0                       26.0                    4.0                 2.0   \n",
              "1                        8.0                    1.0                 4.0   \n",
              "2                       17.0                    2.0                 5.0   \n",
              "3                        4.0                    4.0                 2.0   \n",
              "4                        7.0                    1.0                 5.0   \n",
              "\n",
              "   SEAT COMFORT  Inflight Entertainment  CLEANLINESS  SATISFACTION  \\\n",
              "0           1.0                     5.0          4.0     Satisfied   \n",
              "1           1.0                     3.0          4.0  Dissatisfied   \n",
              "2           5.0                     3.0          3.0  Dissatisfied   \n",
              "3           1.0                     5.0          5.0     Satisfied   \n",
              "4           4.0                     2.0          5.0  Dissatisfied   \n",
              "\n",
              "  Travel Insurance Purchased  Total Travel Time (Minutes) Price of Ticket ($)  \n",
              "0                         No                        272.0                396$  \n",
              "1                         No                        121.0                465$  \n",
              "2                        Yes                        162.0                356$  \n",
              "3                        YES                        163.0                567$  \n",
              "4                        YES                        117.0                789$  "
            ],
            "text/html": [
              "\n",
              "  <div id=\"df-1612ca3c-4e30-4e4d-bf4a-8b06e584111c\" class=\"colab-df-container\">\n",
              "    <div>\n",
              "<style scoped>\n",
              "    .dataframe tbody tr th:only-of-type {\n",
              "        vertical-align: middle;\n",
              "    }\n",
              "\n",
              "    .dataframe tbody tr th {\n",
              "        vertical-align: top;\n",
              "    }\n",
              "\n",
              "    .dataframe thead th {\n",
              "        text-align: right;\n",
              "    }\n",
              "</style>\n",
              "<table border=\"1\" class=\"dataframe\">\n",
              "  <thead>\n",
              "    <tr style=\"text-align: right;\">\n",
              "      <th></th>\n",
              "      <th>Gender</th>\n",
              "      <th>Customer Type</th>\n",
              "      <th>#Age</th>\n",
              "      <th>Type of Travel</th>\n",
              "      <th>Class</th>\n",
              "      <th>//Flight Distance\\\\\\</th>\n",
              "      <th>#Departure Delay in Minutes</th>\n",
              "      <th>#arrival delay in minutes</th>\n",
              "      <th>Inflight Wifi Service</th>\n",
              "      <th>$$Food_and_Drink##</th>\n",
              "      <th>SEAT COMFORT</th>\n",
              "      <th>Inflight Entertainment</th>\n",
              "      <th>CLEANLINESS</th>\n",
              "      <th>SATISFACTION</th>\n",
              "      <th>Travel Insurance Purchased</th>\n",
              "      <th>Total Travel Time (Minutes)</th>\n",
              "      <th>Price of Ticket ($)</th>\n",
              "    </tr>\n",
              "  </thead>\n",
              "  <tbody>\n",
              "    <tr>\n",
              "      <th>0</th>\n",
              "      <td>Male</td>\n",
              "      <td>Disloyal Customer</td>\n",
              "      <td>43.0</td>\n",
              "      <td>Business Travel</td>\n",
              "      <td>Eco</td>\n",
              "      <td>1936.0</td>\n",
              "      <td>26.0</td>\n",
              "      <td>26.0</td>\n",
              "      <td>4.0</td>\n",
              "      <td>2.0</td>\n",
              "      <td>1.0</td>\n",
              "      <td>5.0</td>\n",
              "      <td>4.0</td>\n",
              "      <td>Satisfied</td>\n",
              "      <td>No</td>\n",
              "      <td>272.0</td>\n",
              "      <td>396$</td>\n",
              "    </tr>\n",
              "    <tr>\n",
              "      <th>1</th>\n",
              "      <td>Female</td>\n",
              "      <td>Loyal Customer</td>\n",
              "      <td>65.0</td>\n",
              "      <td>Business Travel</td>\n",
              "      <td>Eco</td>\n",
              "      <td>1016.0</td>\n",
              "      <td>4.0</td>\n",
              "      <td>8.0</td>\n",
              "      <td>1.0</td>\n",
              "      <td>4.0</td>\n",
              "      <td>1.0</td>\n",
              "      <td>3.0</td>\n",
              "      <td>4.0</td>\n",
              "      <td>Dissatisfied</td>\n",
              "      <td>No</td>\n",
              "      <td>121.0</td>\n",
              "      <td>465$</td>\n",
              "    </tr>\n",
              "    <tr>\n",
              "      <th>2</th>\n",
              "      <td>Male</td>\n",
              "      <td>Loyal Customer</td>\n",
              "      <td>21.0</td>\n",
              "      <td>Business Travel</td>\n",
              "      <td>Eco</td>\n",
              "      <td>1460.0</td>\n",
              "      <td>13.0</td>\n",
              "      <td>17.0</td>\n",
              "      <td>2.0</td>\n",
              "      <td>5.0</td>\n",
              "      <td>5.0</td>\n",
              "      <td>3.0</td>\n",
              "      <td>3.0</td>\n",
              "      <td>Dissatisfied</td>\n",
              "      <td>Yes</td>\n",
              "      <td>162.0</td>\n",
              "      <td>356$</td>\n",
              "    </tr>\n",
              "    <tr>\n",
              "      <th>3</th>\n",
              "      <td>Male</td>\n",
              "      <td>Disloyal Customer</td>\n",
              "      <td>39.0</td>\n",
              "      <td>Business Travel</td>\n",
              "      <td>Eco_Plus</td>\n",
              "      <td>1349.0</td>\n",
              "      <td>0.0</td>\n",
              "      <td>4.0</td>\n",
              "      <td>4.0</td>\n",
              "      <td>2.0</td>\n",
              "      <td>1.0</td>\n",
              "      <td>5.0</td>\n",
              "      <td>5.0</td>\n",
              "      <td>Satisfied</td>\n",
              "      <td>YES</td>\n",
              "      <td>163.0</td>\n",
              "      <td>567$</td>\n",
              "    </tr>\n",
              "    <tr>\n",
              "      <th>4</th>\n",
              "      <td>Male</td>\n",
              "      <td>Disloyal Customer</td>\n",
              "      <td>46.0</td>\n",
              "      <td>Business Travel</td>\n",
              "      <td>Business</td>\n",
              "      <td>997.0</td>\n",
              "      <td>2.0</td>\n",
              "      <td>7.0</td>\n",
              "      <td>1.0</td>\n",
              "      <td>5.0</td>\n",
              "      <td>4.0</td>\n",
              "      <td>2.0</td>\n",
              "      <td>5.0</td>\n",
              "      <td>Dissatisfied</td>\n",
              "      <td>YES</td>\n",
              "      <td>117.0</td>\n",
              "      <td>789$</td>\n",
              "    </tr>\n",
              "  </tbody>\n",
              "</table>\n",
              "</div>\n",
              "    <div class=\"colab-df-buttons\">\n",
              "\n",
              "  <div class=\"colab-df-container\">\n",
              "    <button class=\"colab-df-convert\" onclick=\"convertToInteractive('df-1612ca3c-4e30-4e4d-bf4a-8b06e584111c')\"\n",
              "            title=\"Convert this dataframe to an interactive table.\"\n",
              "            style=\"display:none;\">\n",
              "\n",
              "  <svg xmlns=\"http://www.w3.org/2000/svg\" height=\"24px\" viewBox=\"0 -960 960 960\">\n",
              "    <path d=\"M120-120v-720h720v720H120Zm60-500h600v-160H180v160Zm220 220h160v-160H400v160Zm0 220h160v-160H400v160ZM180-400h160v-160H180v160Zm440 0h160v-160H620v160ZM180-180h160v-160H180v160Zm440 0h160v-160H620v160Z\"/>\n",
              "  </svg>\n",
              "    </button>\n",
              "\n",
              "  <style>\n",
              "    .colab-df-container {\n",
              "      display:flex;\n",
              "      gap: 12px;\n",
              "    }\n",
              "\n",
              "    .colab-df-convert {\n",
              "      background-color: #E8F0FE;\n",
              "      border: none;\n",
              "      border-radius: 50%;\n",
              "      cursor: pointer;\n",
              "      display: none;\n",
              "      fill: #1967D2;\n",
              "      height: 32px;\n",
              "      padding: 0 0 0 0;\n",
              "      width: 32px;\n",
              "    }\n",
              "\n",
              "    .colab-df-convert:hover {\n",
              "      background-color: #E2EBFA;\n",
              "      box-shadow: 0px 1px 2px rgba(60, 64, 67, 0.3), 0px 1px 3px 1px rgba(60, 64, 67, 0.15);\n",
              "      fill: #174EA6;\n",
              "    }\n",
              "\n",
              "    .colab-df-buttons div {\n",
              "      margin-bottom: 4px;\n",
              "    }\n",
              "\n",
              "    [theme=dark] .colab-df-convert {\n",
              "      background-color: #3B4455;\n",
              "      fill: #D2E3FC;\n",
              "    }\n",
              "\n",
              "    [theme=dark] .colab-df-convert:hover {\n",
              "      background-color: #434B5C;\n",
              "      box-shadow: 0px 1px 3px 1px rgba(0, 0, 0, 0.15);\n",
              "      filter: drop-shadow(0px 1px 2px rgba(0, 0, 0, 0.3));\n",
              "      fill: #FFFFFF;\n",
              "    }\n",
              "  </style>\n",
              "\n",
              "    <script>\n",
              "      const buttonEl =\n",
              "        document.querySelector('#df-1612ca3c-4e30-4e4d-bf4a-8b06e584111c button.colab-df-convert');\n",
              "      buttonEl.style.display =\n",
              "        google.colab.kernel.accessAllowed ? 'block' : 'none';\n",
              "\n",
              "      async function convertToInteractive(key) {\n",
              "        const element = document.querySelector('#df-1612ca3c-4e30-4e4d-bf4a-8b06e584111c');\n",
              "        const dataTable =\n",
              "          await google.colab.kernel.invokeFunction('convertToInteractive',\n",
              "                                                    [key], {});\n",
              "        if (!dataTable) return;\n",
              "\n",
              "        const docLinkHtml = 'Like what you see? Visit the ' +\n",
              "          '<a target=\"_blank\" href=https://colab.research.google.com/notebooks/data_table.ipynb>data table notebook</a>'\n",
              "          + ' to learn more about interactive tables.';\n",
              "        element.innerHTML = '';\n",
              "        dataTable['output_type'] = 'display_data';\n",
              "        await google.colab.output.renderOutput(dataTable, element);\n",
              "        const docLink = document.createElement('div');\n",
              "        docLink.innerHTML = docLinkHtml;\n",
              "        element.appendChild(docLink);\n",
              "      }\n",
              "    </script>\n",
              "  </div>\n",
              "\n",
              "\n",
              "<div id=\"df-a5071ee8-e06b-491e-bb39-e0c85628b7e4\">\n",
              "  <button class=\"colab-df-quickchart\" onclick=\"quickchart('df-a5071ee8-e06b-491e-bb39-e0c85628b7e4')\"\n",
              "            title=\"Suggest charts\"\n",
              "            style=\"display:none;\">\n",
              "\n",
              "<svg xmlns=\"http://www.w3.org/2000/svg\" height=\"24px\"viewBox=\"0 0 24 24\"\n",
              "     width=\"24px\">\n",
              "    <g>\n",
              "        <path d=\"M19 3H5c-1.1 0-2 .9-2 2v14c0 1.1.9 2 2 2h14c1.1 0 2-.9 2-2V5c0-1.1-.9-2-2-2zM9 17H7v-7h2v7zm4 0h-2V7h2v10zm4 0h-2v-4h2v4z\"/>\n",
              "    </g>\n",
              "</svg>\n",
              "  </button>\n",
              "\n",
              "<style>\n",
              "  .colab-df-quickchart {\n",
              "      --bg-color: #E8F0FE;\n",
              "      --fill-color: #1967D2;\n",
              "      --hover-bg-color: #E2EBFA;\n",
              "      --hover-fill-color: #174EA6;\n",
              "      --disabled-fill-color: #AAA;\n",
              "      --disabled-bg-color: #DDD;\n",
              "  }\n",
              "\n",
              "  [theme=dark] .colab-df-quickchart {\n",
              "      --bg-color: #3B4455;\n",
              "      --fill-color: #D2E3FC;\n",
              "      --hover-bg-color: #434B5C;\n",
              "      --hover-fill-color: #FFFFFF;\n",
              "      --disabled-bg-color: #3B4455;\n",
              "      --disabled-fill-color: #666;\n",
              "  }\n",
              "\n",
              "  .colab-df-quickchart {\n",
              "    background-color: var(--bg-color);\n",
              "    border: none;\n",
              "    border-radius: 50%;\n",
              "    cursor: pointer;\n",
              "    display: none;\n",
              "    fill: var(--fill-color);\n",
              "    height: 32px;\n",
              "    padding: 0;\n",
              "    width: 32px;\n",
              "  }\n",
              "\n",
              "  .colab-df-quickchart:hover {\n",
              "    background-color: var(--hover-bg-color);\n",
              "    box-shadow: 0 1px 2px rgba(60, 64, 67, 0.3), 0 1px 3px 1px rgba(60, 64, 67, 0.15);\n",
              "    fill: var(--button-hover-fill-color);\n",
              "  }\n",
              "\n",
              "  .colab-df-quickchart-complete:disabled,\n",
              "  .colab-df-quickchart-complete:disabled:hover {\n",
              "    background-color: var(--disabled-bg-color);\n",
              "    fill: var(--disabled-fill-color);\n",
              "    box-shadow: none;\n",
              "  }\n",
              "\n",
              "  .colab-df-spinner {\n",
              "    border: 2px solid var(--fill-color);\n",
              "    border-color: transparent;\n",
              "    border-bottom-color: var(--fill-color);\n",
              "    animation:\n",
              "      spin 1s steps(1) infinite;\n",
              "  }\n",
              "\n",
              "  @keyframes spin {\n",
              "    0% {\n",
              "      border-color: transparent;\n",
              "      border-bottom-color: var(--fill-color);\n",
              "      border-left-color: var(--fill-color);\n",
              "    }\n",
              "    20% {\n",
              "      border-color: transparent;\n",
              "      border-left-color: var(--fill-color);\n",
              "      border-top-color: var(--fill-color);\n",
              "    }\n",
              "    30% {\n",
              "      border-color: transparent;\n",
              "      border-left-color: var(--fill-color);\n",
              "      border-top-color: var(--fill-color);\n",
              "      border-right-color: var(--fill-color);\n",
              "    }\n",
              "    40% {\n",
              "      border-color: transparent;\n",
              "      border-right-color: var(--fill-color);\n",
              "      border-top-color: var(--fill-color);\n",
              "    }\n",
              "    60% {\n",
              "      border-color: transparent;\n",
              "      border-right-color: var(--fill-color);\n",
              "    }\n",
              "    80% {\n",
              "      border-color: transparent;\n",
              "      border-right-color: var(--fill-color);\n",
              "      border-bottom-color: var(--fill-color);\n",
              "    }\n",
              "    90% {\n",
              "      border-color: transparent;\n",
              "      border-bottom-color: var(--fill-color);\n",
              "    }\n",
              "  }\n",
              "</style>\n",
              "\n",
              "  <script>\n",
              "    async function quickchart(key) {\n",
              "      const quickchartButtonEl =\n",
              "        document.querySelector('#' + key + ' button');\n",
              "      quickchartButtonEl.disabled = true;  // To prevent multiple clicks.\n",
              "      quickchartButtonEl.classList.add('colab-df-spinner');\n",
              "      try {\n",
              "        const charts = await google.colab.kernel.invokeFunction(\n",
              "            'suggestCharts', [key], {});\n",
              "      } catch (error) {\n",
              "        console.error('Error during call to suggestCharts:', error);\n",
              "      }\n",
              "      quickchartButtonEl.classList.remove('colab-df-spinner');\n",
              "      quickchartButtonEl.classList.add('colab-df-quickchart-complete');\n",
              "    }\n",
              "    (() => {\n",
              "      let quickchartButtonEl =\n",
              "        document.querySelector('#df-a5071ee8-e06b-491e-bb39-e0c85628b7e4 button');\n",
              "      quickchartButtonEl.style.display =\n",
              "        google.colab.kernel.accessAllowed ? 'block' : 'none';\n",
              "    })();\n",
              "  </script>\n",
              "</div>\n",
              "\n",
              "    </div>\n",
              "  </div>\n"
            ],
            "application/vnd.google.colaboratory.intrinsic+json": {
              "type": "dataframe",
              "variable_name": "dirty_data",
              "summary": "{\n  \"name\": \"dirty_data\",\n  \"rows\": 1000,\n  \"fields\": [\n    {\n      \"column\": \"Gender\",\n      \"properties\": {\n        \"dtype\": \"category\",\n        \"num_unique_values\": 4,\n        \"samples\": [\n          \"Female\",\n          \"MaLE\",\n          \"Male\"\n        ],\n        \"semantic_type\": \"\",\n        \"description\": \"\"\n      }\n    },\n    {\n      \"column\": \"Customer Type\",\n      \"properties\": {\n        \"dtype\": \"category\",\n        \"num_unique_values\": 7,\n        \"samples\": [\n          \"Disloyal Customer\",\n          \"Loyal Customer\",\n          \"Loyal \"\n        ],\n        \"semantic_type\": \"\",\n        \"description\": \"\"\n      }\n    },\n    {\n      \"column\": \"#Age\",\n      \"properties\": {\n        \"dtype\": \"number\",\n        \"std\": 10.38163581236261,\n        \"min\": -48.0,\n        \"max\": 72.0,\n        \"num_unique_values\": 53,\n        \"samples\": [\n          29.0,\n          34.0,\n          56.0\n        ],\n        \"semantic_type\": \"\",\n        \"description\": \"\"\n      }\n    },\n    {\n      \"column\": \"Type of Travel\",\n      \"properties\": {\n        \"dtype\": \"category\",\n        \"num_unique_values\": 5,\n        \"samples\": [\n          \"business Travel\",\n          \"PERSONAL TRAVEL\",\n          \"Personal Travel\"\n        ],\n        \"semantic_type\": \"\",\n        \"description\": \"\"\n      }\n    },\n    {\n      \"column\": \"Class\",\n      \"properties\": {\n        \"dtype\": \"category\",\n        \"num_unique_values\": 6,\n        \"samples\": [\n          \"Eco\",\n          \"Eco_Plus\",\n          \"business\"\n        ],\n        \"semantic_type\": \"\",\n        \"description\": \"\"\n      }\n    },\n    {\n      \"column\": \"//Flight Distance\\\\\\\\\\\\\",\n      \"properties\": {\n        \"dtype\": \"number\",\n        \"std\": 489.26523238642795,\n        \"min\": 300.0,\n        \"max\": 3056.0,\n        \"num_unique_values\": 762,\n        \"samples\": [\n          1647.0,\n          1961.0,\n          1598.0\n        ],\n        \"semantic_type\": \"\",\n        \"description\": \"\"\n      }\n    },\n    {\n      \"column\": \"#Departure Delay in Minutes\",\n      \"properties\": {\n        \"dtype\": \"number\",\n        \"std\": 9.302327811865329,\n        \"min\": 0.0,\n        \"max\": 68.0,\n        \"num_unique_values\": 51,\n        \"samples\": [\n          46.0,\n          37.0,\n          30.0\n        ],\n        \"semantic_type\": \"\",\n        \"description\": \"\"\n      }\n    },\n    {\n      \"column\": \"#arrival delay in minutes\",\n      \"properties\": {\n        \"dtype\": \"number\",\n        \"std\": 10.597812845567095,\n        \"min\": 0.0,\n        \"max\": 69.0,\n        \"num_unique_values\": 55,\n        \"samples\": [\n          28.0,\n          11.0,\n          36.0\n        ],\n        \"semantic_type\": \"\",\n        \"description\": \"\"\n      }\n    },\n    {\n      \"column\": \"Inflight Wifi Service\",\n      \"properties\": {\n        \"dtype\": \"number\",\n        \"std\": 1.3987297362168674,\n        \"min\": 0.0,\n        \"max\": 5.0,\n        \"num_unique_values\": 6,\n        \"samples\": [\n          4.0,\n          1.0,\n          5.0\n        ],\n        \"semantic_type\": \"\",\n        \"description\": \"\"\n      }\n    },\n    {\n      \"column\": \"$$Food_and_Drink##\",\n      \"properties\": {\n        \"dtype\": \"number\",\n        \"std\": 1.177687711014725,\n        \"min\": 1.0,\n        \"max\": 5.0,\n        \"num_unique_values\": 5,\n        \"samples\": [\n          4.0,\n          3.0,\n          5.0\n        ],\n        \"semantic_type\": \"\",\n        \"description\": \"\"\n      }\n    },\n    {\n      \"column\": \"SEAT COMFORT\",\n      \"properties\": {\n        \"dtype\": \"number\",\n        \"std\": 1.2810308613299817,\n        \"min\": 1.0,\n        \"max\": 5.0,\n        \"num_unique_values\": 5,\n        \"samples\": [\n          5.0,\n          2.0,\n          4.0\n        ],\n        \"semantic_type\": \"\",\n        \"description\": \"\"\n      }\n    },\n    {\n      \"column\": \"Inflight Entertainment\",\n      \"properties\": {\n        \"dtype\": \"number\",\n        \"std\": 1.2384214697840985,\n        \"min\": 1.0,\n        \"max\": 5.0,\n        \"num_unique_values\": 5,\n        \"samples\": [\n          3.0,\n          1.0,\n          2.0\n        ],\n        \"semantic_type\": \"\",\n        \"description\": \"\"\n      }\n    },\n    {\n      \"column\": \"CLEANLINESS\",\n      \"properties\": {\n        \"dtype\": \"number\",\n        \"std\": 1.147107200119658,\n        \"min\": 1.0,\n        \"max\": 5.0,\n        \"num_unique_values\": 5,\n        \"samples\": [\n          3.0,\n          1.0,\n          5.0\n        ],\n        \"semantic_type\": \"\",\n        \"description\": \"\"\n      }\n    },\n    {\n      \"column\": \"SATISFACTION\",\n      \"properties\": {\n        \"dtype\": \"category\",\n        \"num_unique_values\": 11,\n        \"samples\": [\n          \"N \",\n          \"Satisfied\",\n          \"NEUTRSL\"\n        ],\n        \"semantic_type\": \"\",\n        \"description\": \"\"\n      }\n    },\n    {\n      \"column\": \"Travel Insurance Purchased\",\n      \"properties\": {\n        \"dtype\": \"category\",\n        \"num_unique_values\": 6,\n        \"samples\": [\n          \"No\",\n          \"Yes\",\n          \"N \"\n        ],\n        \"semantic_type\": \"\",\n        \"description\": \"\"\n      }\n    },\n    {\n      \"column\": \"Total Travel Time (Minutes)\",\n      \"properties\": {\n        \"dtype\": \"number\",\n        \"std\": 78.39390127565187,\n        \"min\": -269.0,\n        \"max\": 488.0,\n        \"num_unique_values\": 306,\n        \"samples\": [\n          261.0,\n          363.0,\n          295.0\n        ],\n        \"semantic_type\": \"\",\n        \"description\": \"\"\n      }\n    },\n    {\n      \"column\": \"Price of Ticket ($)\",\n      \"properties\": {\n        \"dtype\": \"category\",\n        \"num_unique_values\": 488,\n        \"samples\": [\n          \"335$\",\n          \"535$\",\n          \"266$\"\n        ],\n        \"semantic_type\": \"\",\n        \"description\": \"\"\n      }\n    }\n  ]\n}"
            }
          },
          "metadata": {},
          "execution_count": 4
        }
      ]
    },
    {
      "cell_type": "code",
      "source": [
        "# last five observations\n",
        "dirty_data.tail()"
      ],
      "metadata": {
        "colab": {
          "base_uri": "https://localhost:8080/",
          "height": 241
        },
        "id": "4p4eHacTWk4i",
        "outputId": "08614f96-9341-4145-d1a6-b5c9995834f2"
      },
      "execution_count": 5,
      "outputs": [
        {
          "output_type": "execute_result",
          "data": {
            "text/plain": [
              "     Gender      Customer Type  #Age   Type of Travel     Class  \\\n",
              "995    MaLE  Disloyal Customer  39.0  Business Travel  Business   \n",
              "996    Male          disloyal   44.0  Business Travel       Eco   \n",
              "997  Female     Loyal Customer  37.0  Personal Travel       Eco   \n",
              "998  Female     Loyal Customer  53.0  Personal Travel  Business   \n",
              "999    MaLE          disloyal   48.0  Business Travel       Eco   \n",
              "\n",
              "     //Flight Distance\\\\\\  #Departure Delay in Minutes  \\\n",
              "995                1734.0                         36.0   \n",
              "996                1254.0                         38.0   \n",
              "997                2164.0                          3.0   \n",
              "998                1013.0                          0.0   \n",
              "999                1703.0                         12.0   \n",
              "\n",
              "     #arrival delay in minutes  Inflight Wifi Service  $$Food_and_Drink##  \\\n",
              "995                       42.0                    4.0                 2.0   \n",
              "996                       42.0                    5.0                 3.0   \n",
              "997                        0.0                    4.0                 2.0   \n",
              "998                        5.0                    1.0                 3.0   \n",
              "999                       23.0                    5.0                 1.0   \n",
              "\n",
              "     SEAT COMFORT  Inflight Entertainment  CLEANLINESS SATISFACTION  \\\n",
              "995           2.0                     1.0          4.0      Neutral   \n",
              "996           5.0                     3.0          2.0    Satisfied   \n",
              "997           3.0                     2.0          4.0    Satisfied   \n",
              "998           2.0                     3.0          1.0    Satisfied   \n",
              "999           3.0                     5.0          2.0    Satisfied   \n",
              "\n",
              "    Travel Insurance Purchased  Total Travel Time (Minutes)  \\\n",
              "995                         No                        272.0   \n",
              "996                         No                        161.0   \n",
              "997                         No                        250.0   \n",
              "998                        Yes                        115.0   \n",
              "999                         No                        151.0   \n",
              "\n",
              "    Price of Ticket ($)  \n",
              "995                477$  \n",
              "996                565$  \n",
              "997                179$  \n",
              "998                588$  \n",
              "999                277$  "
            ],
            "text/html": [
              "\n",
              "  <div id=\"df-7fb0bb0f-e9b0-42f2-befa-766971b808f9\" class=\"colab-df-container\">\n",
              "    <div>\n",
              "<style scoped>\n",
              "    .dataframe tbody tr th:only-of-type {\n",
              "        vertical-align: middle;\n",
              "    }\n",
              "\n",
              "    .dataframe tbody tr th {\n",
              "        vertical-align: top;\n",
              "    }\n",
              "\n",
              "    .dataframe thead th {\n",
              "        text-align: right;\n",
              "    }\n",
              "</style>\n",
              "<table border=\"1\" class=\"dataframe\">\n",
              "  <thead>\n",
              "    <tr style=\"text-align: right;\">\n",
              "      <th></th>\n",
              "      <th>Gender</th>\n",
              "      <th>Customer Type</th>\n",
              "      <th>#Age</th>\n",
              "      <th>Type of Travel</th>\n",
              "      <th>Class</th>\n",
              "      <th>//Flight Distance\\\\\\</th>\n",
              "      <th>#Departure Delay in Minutes</th>\n",
              "      <th>#arrival delay in minutes</th>\n",
              "      <th>Inflight Wifi Service</th>\n",
              "      <th>$$Food_and_Drink##</th>\n",
              "      <th>SEAT COMFORT</th>\n",
              "      <th>Inflight Entertainment</th>\n",
              "      <th>CLEANLINESS</th>\n",
              "      <th>SATISFACTION</th>\n",
              "      <th>Travel Insurance Purchased</th>\n",
              "      <th>Total Travel Time (Minutes)</th>\n",
              "      <th>Price of Ticket ($)</th>\n",
              "    </tr>\n",
              "  </thead>\n",
              "  <tbody>\n",
              "    <tr>\n",
              "      <th>995</th>\n",
              "      <td>MaLE</td>\n",
              "      <td>Disloyal Customer</td>\n",
              "      <td>39.0</td>\n",
              "      <td>Business Travel</td>\n",
              "      <td>Business</td>\n",
              "      <td>1734.0</td>\n",
              "      <td>36.0</td>\n",
              "      <td>42.0</td>\n",
              "      <td>4.0</td>\n",
              "      <td>2.0</td>\n",
              "      <td>2.0</td>\n",
              "      <td>1.0</td>\n",
              "      <td>4.0</td>\n",
              "      <td>Neutral</td>\n",
              "      <td>No</td>\n",
              "      <td>272.0</td>\n",
              "      <td>477$</td>\n",
              "    </tr>\n",
              "    <tr>\n",
              "      <th>996</th>\n",
              "      <td>Male</td>\n",
              "      <td>disloyal</td>\n",
              "      <td>44.0</td>\n",
              "      <td>Business Travel</td>\n",
              "      <td>Eco</td>\n",
              "      <td>1254.0</td>\n",
              "      <td>38.0</td>\n",
              "      <td>42.0</td>\n",
              "      <td>5.0</td>\n",
              "      <td>3.0</td>\n",
              "      <td>5.0</td>\n",
              "      <td>3.0</td>\n",
              "      <td>2.0</td>\n",
              "      <td>Satisfied</td>\n",
              "      <td>No</td>\n",
              "      <td>161.0</td>\n",
              "      <td>565$</td>\n",
              "    </tr>\n",
              "    <tr>\n",
              "      <th>997</th>\n",
              "      <td>Female</td>\n",
              "      <td>Loyal Customer</td>\n",
              "      <td>37.0</td>\n",
              "      <td>Personal Travel</td>\n",
              "      <td>Eco</td>\n",
              "      <td>2164.0</td>\n",
              "      <td>3.0</td>\n",
              "      <td>0.0</td>\n",
              "      <td>4.0</td>\n",
              "      <td>2.0</td>\n",
              "      <td>3.0</td>\n",
              "      <td>2.0</td>\n",
              "      <td>4.0</td>\n",
              "      <td>Satisfied</td>\n",
              "      <td>No</td>\n",
              "      <td>250.0</td>\n",
              "      <td>179$</td>\n",
              "    </tr>\n",
              "    <tr>\n",
              "      <th>998</th>\n",
              "      <td>Female</td>\n",
              "      <td>Loyal Customer</td>\n",
              "      <td>53.0</td>\n",
              "      <td>Personal Travel</td>\n",
              "      <td>Business</td>\n",
              "      <td>1013.0</td>\n",
              "      <td>0.0</td>\n",
              "      <td>5.0</td>\n",
              "      <td>1.0</td>\n",
              "      <td>3.0</td>\n",
              "      <td>2.0</td>\n",
              "      <td>3.0</td>\n",
              "      <td>1.0</td>\n",
              "      <td>Satisfied</td>\n",
              "      <td>Yes</td>\n",
              "      <td>115.0</td>\n",
              "      <td>588$</td>\n",
              "    </tr>\n",
              "    <tr>\n",
              "      <th>999</th>\n",
              "      <td>MaLE</td>\n",
              "      <td>disloyal</td>\n",
              "      <td>48.0</td>\n",
              "      <td>Business Travel</td>\n",
              "      <td>Eco</td>\n",
              "      <td>1703.0</td>\n",
              "      <td>12.0</td>\n",
              "      <td>23.0</td>\n",
              "      <td>5.0</td>\n",
              "      <td>1.0</td>\n",
              "      <td>3.0</td>\n",
              "      <td>5.0</td>\n",
              "      <td>2.0</td>\n",
              "      <td>Satisfied</td>\n",
              "      <td>No</td>\n",
              "      <td>151.0</td>\n",
              "      <td>277$</td>\n",
              "    </tr>\n",
              "  </tbody>\n",
              "</table>\n",
              "</div>\n",
              "    <div class=\"colab-df-buttons\">\n",
              "\n",
              "  <div class=\"colab-df-container\">\n",
              "    <button class=\"colab-df-convert\" onclick=\"convertToInteractive('df-7fb0bb0f-e9b0-42f2-befa-766971b808f9')\"\n",
              "            title=\"Convert this dataframe to an interactive table.\"\n",
              "            style=\"display:none;\">\n",
              "\n",
              "  <svg xmlns=\"http://www.w3.org/2000/svg\" height=\"24px\" viewBox=\"0 -960 960 960\">\n",
              "    <path d=\"M120-120v-720h720v720H120Zm60-500h600v-160H180v160Zm220 220h160v-160H400v160Zm0 220h160v-160H400v160ZM180-400h160v-160H180v160Zm440 0h160v-160H620v160ZM180-180h160v-160H180v160Zm440 0h160v-160H620v160Z\"/>\n",
              "  </svg>\n",
              "    </button>\n",
              "\n",
              "  <style>\n",
              "    .colab-df-container {\n",
              "      display:flex;\n",
              "      gap: 12px;\n",
              "    }\n",
              "\n",
              "    .colab-df-convert {\n",
              "      background-color: #E8F0FE;\n",
              "      border: none;\n",
              "      border-radius: 50%;\n",
              "      cursor: pointer;\n",
              "      display: none;\n",
              "      fill: #1967D2;\n",
              "      height: 32px;\n",
              "      padding: 0 0 0 0;\n",
              "      width: 32px;\n",
              "    }\n",
              "\n",
              "    .colab-df-convert:hover {\n",
              "      background-color: #E2EBFA;\n",
              "      box-shadow: 0px 1px 2px rgba(60, 64, 67, 0.3), 0px 1px 3px 1px rgba(60, 64, 67, 0.15);\n",
              "      fill: #174EA6;\n",
              "    }\n",
              "\n",
              "    .colab-df-buttons div {\n",
              "      margin-bottom: 4px;\n",
              "    }\n",
              "\n",
              "    [theme=dark] .colab-df-convert {\n",
              "      background-color: #3B4455;\n",
              "      fill: #D2E3FC;\n",
              "    }\n",
              "\n",
              "    [theme=dark] .colab-df-convert:hover {\n",
              "      background-color: #434B5C;\n",
              "      box-shadow: 0px 1px 3px 1px rgba(0, 0, 0, 0.15);\n",
              "      filter: drop-shadow(0px 1px 2px rgba(0, 0, 0, 0.3));\n",
              "      fill: #FFFFFF;\n",
              "    }\n",
              "  </style>\n",
              "\n",
              "    <script>\n",
              "      const buttonEl =\n",
              "        document.querySelector('#df-7fb0bb0f-e9b0-42f2-befa-766971b808f9 button.colab-df-convert');\n",
              "      buttonEl.style.display =\n",
              "        google.colab.kernel.accessAllowed ? 'block' : 'none';\n",
              "\n",
              "      async function convertToInteractive(key) {\n",
              "        const element = document.querySelector('#df-7fb0bb0f-e9b0-42f2-befa-766971b808f9');\n",
              "        const dataTable =\n",
              "          await google.colab.kernel.invokeFunction('convertToInteractive',\n",
              "                                                    [key], {});\n",
              "        if (!dataTable) return;\n",
              "\n",
              "        const docLinkHtml = 'Like what you see? Visit the ' +\n",
              "          '<a target=\"_blank\" href=https://colab.research.google.com/notebooks/data_table.ipynb>data table notebook</a>'\n",
              "          + ' to learn more about interactive tables.';\n",
              "        element.innerHTML = '';\n",
              "        dataTable['output_type'] = 'display_data';\n",
              "        await google.colab.output.renderOutput(dataTable, element);\n",
              "        const docLink = document.createElement('div');\n",
              "        docLink.innerHTML = docLinkHtml;\n",
              "        element.appendChild(docLink);\n",
              "      }\n",
              "    </script>\n",
              "  </div>\n",
              "\n",
              "\n",
              "<div id=\"df-77147aa3-8719-4a63-b5fa-b0901030de19\">\n",
              "  <button class=\"colab-df-quickchart\" onclick=\"quickchart('df-77147aa3-8719-4a63-b5fa-b0901030de19')\"\n",
              "            title=\"Suggest charts\"\n",
              "            style=\"display:none;\">\n",
              "\n",
              "<svg xmlns=\"http://www.w3.org/2000/svg\" height=\"24px\"viewBox=\"0 0 24 24\"\n",
              "     width=\"24px\">\n",
              "    <g>\n",
              "        <path d=\"M19 3H5c-1.1 0-2 .9-2 2v14c0 1.1.9 2 2 2h14c1.1 0 2-.9 2-2V5c0-1.1-.9-2-2-2zM9 17H7v-7h2v7zm4 0h-2V7h2v10zm4 0h-2v-4h2v4z\"/>\n",
              "    </g>\n",
              "</svg>\n",
              "  </button>\n",
              "\n",
              "<style>\n",
              "  .colab-df-quickchart {\n",
              "      --bg-color: #E8F0FE;\n",
              "      --fill-color: #1967D2;\n",
              "      --hover-bg-color: #E2EBFA;\n",
              "      --hover-fill-color: #174EA6;\n",
              "      --disabled-fill-color: #AAA;\n",
              "      --disabled-bg-color: #DDD;\n",
              "  }\n",
              "\n",
              "  [theme=dark] .colab-df-quickchart {\n",
              "      --bg-color: #3B4455;\n",
              "      --fill-color: #D2E3FC;\n",
              "      --hover-bg-color: #434B5C;\n",
              "      --hover-fill-color: #FFFFFF;\n",
              "      --disabled-bg-color: #3B4455;\n",
              "      --disabled-fill-color: #666;\n",
              "  }\n",
              "\n",
              "  .colab-df-quickchart {\n",
              "    background-color: var(--bg-color);\n",
              "    border: none;\n",
              "    border-radius: 50%;\n",
              "    cursor: pointer;\n",
              "    display: none;\n",
              "    fill: var(--fill-color);\n",
              "    height: 32px;\n",
              "    padding: 0;\n",
              "    width: 32px;\n",
              "  }\n",
              "\n",
              "  .colab-df-quickchart:hover {\n",
              "    background-color: var(--hover-bg-color);\n",
              "    box-shadow: 0 1px 2px rgba(60, 64, 67, 0.3), 0 1px 3px 1px rgba(60, 64, 67, 0.15);\n",
              "    fill: var(--button-hover-fill-color);\n",
              "  }\n",
              "\n",
              "  .colab-df-quickchart-complete:disabled,\n",
              "  .colab-df-quickchart-complete:disabled:hover {\n",
              "    background-color: var(--disabled-bg-color);\n",
              "    fill: var(--disabled-fill-color);\n",
              "    box-shadow: none;\n",
              "  }\n",
              "\n",
              "  .colab-df-spinner {\n",
              "    border: 2px solid var(--fill-color);\n",
              "    border-color: transparent;\n",
              "    border-bottom-color: var(--fill-color);\n",
              "    animation:\n",
              "      spin 1s steps(1) infinite;\n",
              "  }\n",
              "\n",
              "  @keyframes spin {\n",
              "    0% {\n",
              "      border-color: transparent;\n",
              "      border-bottom-color: var(--fill-color);\n",
              "      border-left-color: var(--fill-color);\n",
              "    }\n",
              "    20% {\n",
              "      border-color: transparent;\n",
              "      border-left-color: var(--fill-color);\n",
              "      border-top-color: var(--fill-color);\n",
              "    }\n",
              "    30% {\n",
              "      border-color: transparent;\n",
              "      border-left-color: var(--fill-color);\n",
              "      border-top-color: var(--fill-color);\n",
              "      border-right-color: var(--fill-color);\n",
              "    }\n",
              "    40% {\n",
              "      border-color: transparent;\n",
              "      border-right-color: var(--fill-color);\n",
              "      border-top-color: var(--fill-color);\n",
              "    }\n",
              "    60% {\n",
              "      border-color: transparent;\n",
              "      border-right-color: var(--fill-color);\n",
              "    }\n",
              "    80% {\n",
              "      border-color: transparent;\n",
              "      border-right-color: var(--fill-color);\n",
              "      border-bottom-color: var(--fill-color);\n",
              "    }\n",
              "    90% {\n",
              "      border-color: transparent;\n",
              "      border-bottom-color: var(--fill-color);\n",
              "    }\n",
              "  }\n",
              "</style>\n",
              "\n",
              "  <script>\n",
              "    async function quickchart(key) {\n",
              "      const quickchartButtonEl =\n",
              "        document.querySelector('#' + key + ' button');\n",
              "      quickchartButtonEl.disabled = true;  // To prevent multiple clicks.\n",
              "      quickchartButtonEl.classList.add('colab-df-spinner');\n",
              "      try {\n",
              "        const charts = await google.colab.kernel.invokeFunction(\n",
              "            'suggestCharts', [key], {});\n",
              "      } catch (error) {\n",
              "        console.error('Error during call to suggestCharts:', error);\n",
              "      }\n",
              "      quickchartButtonEl.classList.remove('colab-df-spinner');\n",
              "      quickchartButtonEl.classList.add('colab-df-quickchart-complete');\n",
              "    }\n",
              "    (() => {\n",
              "      let quickchartButtonEl =\n",
              "        document.querySelector('#df-77147aa3-8719-4a63-b5fa-b0901030de19 button');\n",
              "      quickchartButtonEl.style.display =\n",
              "        google.colab.kernel.accessAllowed ? 'block' : 'none';\n",
              "    })();\n",
              "  </script>\n",
              "</div>\n",
              "\n",
              "    </div>\n",
              "  </div>\n"
            ],
            "application/vnd.google.colaboratory.intrinsic+json": {
              "type": "dataframe",
              "summary": "{\n  \"name\": \"dirty_data\",\n  \"rows\": 5,\n  \"fields\": [\n    {\n      \"column\": \"Gender\",\n      \"properties\": {\n        \"dtype\": \"string\",\n        \"num_unique_values\": 3,\n        \"samples\": [\n          \"MaLE\",\n          \"Male\",\n          \"Female\"\n        ],\n        \"semantic_type\": \"\",\n        \"description\": \"\"\n      }\n    },\n    {\n      \"column\": \"Customer Type\",\n      \"properties\": {\n        \"dtype\": \"string\",\n        \"num_unique_values\": 3,\n        \"samples\": [\n          \"Disloyal Customer\",\n          \"disloyal \",\n          \"Loyal Customer\"\n        ],\n        \"semantic_type\": \"\",\n        \"description\": \"\"\n      }\n    },\n    {\n      \"column\": \"#Age\",\n      \"properties\": {\n        \"dtype\": \"number\",\n        \"std\": 6.534523701081816,\n        \"min\": 37.0,\n        \"max\": 53.0,\n        \"num_unique_values\": 5,\n        \"samples\": [\n          44.0,\n          48.0,\n          37.0\n        ],\n        \"semantic_type\": \"\",\n        \"description\": \"\"\n      }\n    },\n    {\n      \"column\": \"Type of Travel\",\n      \"properties\": {\n        \"dtype\": \"category\",\n        \"num_unique_values\": 2,\n        \"samples\": [\n          \"Personal Travel\",\n          \"Business Travel\"\n        ],\n        \"semantic_type\": \"\",\n        \"description\": \"\"\n      }\n    },\n    {\n      \"column\": \"Class\",\n      \"properties\": {\n        \"dtype\": \"category\",\n        \"num_unique_values\": 2,\n        \"samples\": [\n          \"Eco\",\n          \"Business\"\n        ],\n        \"semantic_type\": \"\",\n        \"description\": \"\"\n      }\n    },\n    {\n      \"column\": \"//Flight Distance\\\\\\\\\\\\\",\n      \"properties\": {\n        \"dtype\": \"number\",\n        \"std\": 449.29422431186447,\n        \"min\": 1013.0,\n        \"max\": 2164.0,\n        \"num_unique_values\": 5,\n        \"samples\": [\n          1254.0,\n          1703.0\n        ],\n        \"semantic_type\": \"\",\n        \"description\": \"\"\n      }\n    },\n    {\n      \"column\": \"#Departure Delay in Minutes\",\n      \"properties\": {\n        \"dtype\": \"number\",\n        \"std\": 18.088670487352022,\n        \"min\": 0.0,\n        \"max\": 38.0,\n        \"num_unique_values\": 5,\n        \"samples\": [\n          38.0,\n          12.0\n        ],\n        \"semantic_type\": \"\",\n        \"description\": \"\"\n      }\n    },\n    {\n      \"column\": \"#arrival delay in minutes\",\n      \"properties\": {\n        \"dtype\": \"number\",\n        \"std\": 19.83179265724609,\n        \"min\": 0.0,\n        \"max\": 42.0,\n        \"num_unique_values\": 4,\n        \"samples\": [\n          0.0,\n          23.0\n        ],\n        \"semantic_type\": \"\",\n        \"description\": \"\"\n      }\n    },\n    {\n      \"column\": \"Inflight Wifi Service\",\n      \"properties\": {\n        \"dtype\": \"number\",\n        \"std\": 1.6431676725154984,\n        \"min\": 1.0,\n        \"max\": 5.0,\n        \"num_unique_values\": 3,\n        \"samples\": [\n          4.0,\n          5.0\n        ],\n        \"semantic_type\": \"\",\n        \"description\": \"\"\n      }\n    },\n    {\n      \"column\": \"$$Food_and_Drink##\",\n      \"properties\": {\n        \"dtype\": \"number\",\n        \"std\": 0.8366600265340756,\n        \"min\": 1.0,\n        \"max\": 3.0,\n        \"num_unique_values\": 3,\n        \"samples\": [\n          2.0,\n          3.0\n        ],\n        \"semantic_type\": \"\",\n        \"description\": \"\"\n      }\n    },\n    {\n      \"column\": \"SEAT COMFORT\",\n      \"properties\": {\n        \"dtype\": \"number\",\n        \"std\": 1.224744871391589,\n        \"min\": 2.0,\n        \"max\": 5.0,\n        \"num_unique_values\": 3,\n        \"samples\": [\n          2.0,\n          5.0\n        ],\n        \"semantic_type\": \"\",\n        \"description\": \"\"\n      }\n    },\n    {\n      \"column\": \"Inflight Entertainment\",\n      \"properties\": {\n        \"dtype\": \"number\",\n        \"std\": 1.4832396974191326,\n        \"min\": 1.0,\n        \"max\": 5.0,\n        \"num_unique_values\": 4,\n        \"samples\": [\n          3.0,\n          5.0\n        ],\n        \"semantic_type\": \"\",\n        \"description\": \"\"\n      }\n    },\n    {\n      \"column\": \"CLEANLINESS\",\n      \"properties\": {\n        \"dtype\": \"number\",\n        \"std\": 1.3416407864998738,\n        \"min\": 1.0,\n        \"max\": 4.0,\n        \"num_unique_values\": 3,\n        \"samples\": [\n          4.0,\n          2.0\n        ],\n        \"semantic_type\": \"\",\n        \"description\": \"\"\n      }\n    },\n    {\n      \"column\": \"SATISFACTION\",\n      \"properties\": {\n        \"dtype\": \"category\",\n        \"num_unique_values\": 2,\n        \"samples\": [\n          \"Satisfied\",\n          \"Neutral\"\n        ],\n        \"semantic_type\": \"\",\n        \"description\": \"\"\n      }\n    },\n    {\n      \"column\": \"Travel Insurance Purchased\",\n      \"properties\": {\n        \"dtype\": \"category\",\n        \"num_unique_values\": 2,\n        \"samples\": [\n          \"Yes\",\n          \"No\"\n        ],\n        \"semantic_type\": \"\",\n        \"description\": \"\"\n      }\n    },\n    {\n      \"column\": \"Total Travel Time (Minutes)\",\n      \"properties\": {\n        \"dtype\": \"number\",\n        \"std\": 67.65870232276112,\n        \"min\": 115.0,\n        \"max\": 272.0,\n        \"num_unique_values\": 5,\n        \"samples\": [\n          161.0,\n          151.0\n        ],\n        \"semantic_type\": \"\",\n        \"description\": \"\"\n      }\n    },\n    {\n      \"column\": \"Price of Ticket ($)\",\n      \"properties\": {\n        \"dtype\": \"string\",\n        \"num_unique_values\": 5,\n        \"samples\": [\n          \"565$\",\n          \"277$\"\n        ],\n        \"semantic_type\": \"\",\n        \"description\": \"\"\n      }\n    }\n  ]\n}"
            }
          },
          "metadata": {},
          "execution_count": 5
        }
      ]
    },
    {
      "cell_type": "code",
      "source": [
        "# examining the data\n",
        "dirty_data.info()"
      ],
      "metadata": {
        "colab": {
          "base_uri": "https://localhost:8080/"
        },
        "id": "CamVBnHAWlmt",
        "outputId": "a8d9f23d-aa4f-4c4e-e57b-6f60ffc2b54b"
      },
      "execution_count": 6,
      "outputs": [
        {
          "output_type": "stream",
          "name": "stdout",
          "text": [
            "<class 'pandas.core.frame.DataFrame'>\n",
            "RangeIndex: 1000 entries, 0 to 999\n",
            "Data columns (total 17 columns):\n",
            " #   Column                       Non-Null Count  Dtype  \n",
            "---  ------                       --------------  -----  \n",
            " 0   Gender                       1000 non-null   object \n",
            " 1   Customer Type                992 non-null    object \n",
            " 2   #Age                         998 non-null    float64\n",
            " 3   Type of Travel               987 non-null    object \n",
            " 4   Class                        995 non-null    object \n",
            " 5   //Flight Distance\\\\\\         993 non-null    float64\n",
            " 6   #Departure Delay in Minutes  997 non-null    float64\n",
            " 7   #arrival delay in minutes    994 non-null    float64\n",
            " 8   Inflight Wifi Service        996 non-null    float64\n",
            " 9   $$Food_and_Drink##           988 non-null    float64\n",
            " 10  SEAT COMFORT                 991 non-null    float64\n",
            " 11  Inflight Entertainment       990 non-null    float64\n",
            " 12  CLEANLINESS                  995 non-null    float64\n",
            " 13  SATISFACTION                 992 non-null    object \n",
            " 14  Travel Insurance Purchased   997 non-null    object \n",
            " 15  Total Travel Time (Minutes)  995 non-null    float64\n",
            " 16  Price of Ticket ($)          999 non-null    object \n",
            "dtypes: float64(10), object(7)\n",
            "memory usage: 132.9+ KB\n"
          ]
        }
      ]
    },
    {
      "cell_type": "code",
      "source": [
        "# we converted the column names to title format, ensuring that the first letter of each word is capitalized\n",
        "dirty_data.columns = dirty_data.columns.str.title()\n",
        "dirty_data.columns"
      ],
      "metadata": {
        "colab": {
          "base_uri": "https://localhost:8080/"
        },
        "id": "MTD_jh1mWnZk",
        "outputId": "2c7be1e5-65a0-4c40-ca1e-264632d3a5fe"
      },
      "execution_count": 7,
      "outputs": [
        {
          "output_type": "execute_result",
          "data": {
            "text/plain": [
              "Index(['Gender', 'Customer Type', '#Age', 'Type Of Travel', 'Class',\n",
              "       '//Flight Distance\\\\\\', '#Departure Delay In Minutes',\n",
              "       '#Arrival Delay In Minutes', 'Inflight Wifi Service',\n",
              "       '$$Food_And_Drink##', 'Seat Comfort', 'Inflight Entertainment',\n",
              "       'Cleanliness', 'Satisfaction', 'Travel Insurance Purchased',\n",
              "       'Total Travel Time (Minutes)', 'Price Of Ticket ($)'],\n",
              "      dtype='object')"
            ]
          },
          "metadata": {},
          "execution_count": 7
        }
      ]
    },
    {
      "cell_type": "code",
      "source": [
        "# we resolved inconsistencies in the column names and improved their readability by renaming them\n",
        "dirty_data = dirty_data.rename({'#Age': 'Age' , '//Flight Distance\\\\\\\\\\\\' : 'Flight Distance' ,'#Departure Delay In Minutes' : 'Departure Delay in Minutes' , '#Arrival Delay In Minutes': 'Arrival Delay in Minutes', '$$Food_And_Drink##' : 'Food and Drink','#Price':'Price', \"Type Of Travel\": \"Type of Travel\", \"Price Of Ticket ($)\": \"Price of Ticket ($)\"},axis = \"columns\")\n",
        "dirty_data.columns"
      ],
      "metadata": {
        "colab": {
          "base_uri": "https://localhost:8080/"
        },
        "id": "tBnRrKwvXgO4",
        "outputId": "98b183c9-1d40-480d-e30f-71125385bb7e"
      },
      "execution_count": 8,
      "outputs": [
        {
          "output_type": "execute_result",
          "data": {
            "text/plain": [
              "Index(['Gender', 'Customer Type', 'Age', 'Type of Travel', 'Class',\n",
              "       'Flight Distance', 'Departure Delay in Minutes',\n",
              "       'Arrival Delay in Minutes', 'Inflight Wifi Service', 'Food and Drink',\n",
              "       'Seat Comfort', 'Inflight Entertainment', 'Cleanliness', 'Satisfaction',\n",
              "       'Travel Insurance Purchased', 'Total Travel Time (Minutes)',\n",
              "       'Price of Ticket ($)'],\n",
              "      dtype='object')"
            ]
          },
          "metadata": {},
          "execution_count": 8
        }
      ]
    },
    {
      "cell_type": "code",
      "source": [
        "# 5 ordinal data columns, such as Inflight Wifi Service, were incorrectly categorized as float so we changed their type to object\n",
        "columns_to_convert = ['Inflight Wifi Service', 'Food and Drink', 'Seat Comfort', 'Inflight Entertainment', 'Cleanliness']\n",
        "dirty_data [columns_to_convert] = dirty_data[columns_to_convert].astype('object')"
      ],
      "metadata": {
        "id": "S8VFKSdLSxOF"
      },
      "execution_count": 9,
      "outputs": []
    },
    {
      "cell_type": "code",
      "source": [
        "# we printed the changes to review the modifications we made\n",
        "dirty_data.info()"
      ],
      "metadata": {
        "colab": {
          "base_uri": "https://localhost:8080/"
        },
        "id": "YCCxi2kfvU8v",
        "outputId": "38641b8a-9815-4787-c1f9-4cb9a8415055"
      },
      "execution_count": 10,
      "outputs": [
        {
          "output_type": "stream",
          "name": "stdout",
          "text": [
            "<class 'pandas.core.frame.DataFrame'>\n",
            "RangeIndex: 1000 entries, 0 to 999\n",
            "Data columns (total 17 columns):\n",
            " #   Column                       Non-Null Count  Dtype  \n",
            "---  ------                       --------------  -----  \n",
            " 0   Gender                       1000 non-null   object \n",
            " 1   Customer Type                992 non-null    object \n",
            " 2   Age                          998 non-null    float64\n",
            " 3   Type of Travel               987 non-null    object \n",
            " 4   Class                        995 non-null    object \n",
            " 5   Flight Distance              993 non-null    float64\n",
            " 6   Departure Delay in Minutes   997 non-null    float64\n",
            " 7   Arrival Delay in Minutes     994 non-null    float64\n",
            " 8   Inflight Wifi Service        996 non-null    object \n",
            " 9   Food and Drink               988 non-null    object \n",
            " 10  Seat Comfort                 991 non-null    object \n",
            " 11  Inflight Entertainment       990 non-null    object \n",
            " 12  Cleanliness                  995 non-null    object \n",
            " 13  Satisfaction                 992 non-null    object \n",
            " 14  Travel Insurance Purchased   997 non-null    object \n",
            " 15  Total Travel Time (Minutes)  995 non-null    float64\n",
            " 16  Price of Ticket ($)          999 non-null    object \n",
            "dtypes: float64(5), object(12)\n",
            "memory usage: 132.9+ KB\n"
          ]
        }
      ]
    },
    {
      "cell_type": "markdown",
      "source": [
        "Note: We identified that the \"Price Of Ticket\" column has a data type of object and needs to be converted to float64. However, we addressed this issue by removing the dollar symbol from each observation in the \"Price Of Ticket ($)\" column during the correction process."
      ],
      "metadata": {
        "id": "ASjiXFyzUwHj"
      }
    },
    {
      "cell_type": "code",
      "source": [
        "# we checked for any duplicate rows in the dataset\n",
        "dirty_data[dirty_data.duplicated()]"
      ],
      "metadata": {
        "colab": {
          "base_uri": "https://localhost:8080/",
          "height": 53
        },
        "id": "hTwySmoTaVlf",
        "outputId": "e064d036-6f2e-44a5-c872-d949a66e1c6e"
      },
      "execution_count": 11,
      "outputs": [
        {
          "output_type": "execute_result",
          "data": {
            "text/plain": [
              "Empty DataFrame\n",
              "Columns: [Gender, Customer Type, Age, Type of Travel, Class, Flight Distance, Departure Delay in Minutes, Arrival Delay in Minutes, Inflight Wifi Service, Food and Drink, Seat Comfort, Inflight Entertainment, Cleanliness, Satisfaction, Travel Insurance Purchased, Total Travel Time (Minutes), Price of Ticket ($)]\n",
              "Index: []"
            ],
            "text/html": [
              "\n",
              "  <div id=\"df-9242f5ce-b1bc-414c-95e8-86a4b6b75224\" class=\"colab-df-container\">\n",
              "    <div>\n",
              "<style scoped>\n",
              "    .dataframe tbody tr th:only-of-type {\n",
              "        vertical-align: middle;\n",
              "    }\n",
              "\n",
              "    .dataframe tbody tr th {\n",
              "        vertical-align: top;\n",
              "    }\n",
              "\n",
              "    .dataframe thead th {\n",
              "        text-align: right;\n",
              "    }\n",
              "</style>\n",
              "<table border=\"1\" class=\"dataframe\">\n",
              "  <thead>\n",
              "    <tr style=\"text-align: right;\">\n",
              "      <th></th>\n",
              "      <th>Gender</th>\n",
              "      <th>Customer Type</th>\n",
              "      <th>Age</th>\n",
              "      <th>Type of Travel</th>\n",
              "      <th>Class</th>\n",
              "      <th>Flight Distance</th>\n",
              "      <th>Departure Delay in Minutes</th>\n",
              "      <th>Arrival Delay in Minutes</th>\n",
              "      <th>Inflight Wifi Service</th>\n",
              "      <th>Food and Drink</th>\n",
              "      <th>Seat Comfort</th>\n",
              "      <th>Inflight Entertainment</th>\n",
              "      <th>Cleanliness</th>\n",
              "      <th>Satisfaction</th>\n",
              "      <th>Travel Insurance Purchased</th>\n",
              "      <th>Total Travel Time (Minutes)</th>\n",
              "      <th>Price of Ticket ($)</th>\n",
              "    </tr>\n",
              "  </thead>\n",
              "  <tbody>\n",
              "  </tbody>\n",
              "</table>\n",
              "</div>\n",
              "    <div class=\"colab-df-buttons\">\n",
              "\n",
              "  <div class=\"colab-df-container\">\n",
              "    <button class=\"colab-df-convert\" onclick=\"convertToInteractive('df-9242f5ce-b1bc-414c-95e8-86a4b6b75224')\"\n",
              "            title=\"Convert this dataframe to an interactive table.\"\n",
              "            style=\"display:none;\">\n",
              "\n",
              "  <svg xmlns=\"http://www.w3.org/2000/svg\" height=\"24px\" viewBox=\"0 -960 960 960\">\n",
              "    <path d=\"M120-120v-720h720v720H120Zm60-500h600v-160H180v160Zm220 220h160v-160H400v160Zm0 220h160v-160H400v160ZM180-400h160v-160H180v160Zm440 0h160v-160H620v160ZM180-180h160v-160H180v160Zm440 0h160v-160H620v160Z\"/>\n",
              "  </svg>\n",
              "    </button>\n",
              "\n",
              "  <style>\n",
              "    .colab-df-container {\n",
              "      display:flex;\n",
              "      gap: 12px;\n",
              "    }\n",
              "\n",
              "    .colab-df-convert {\n",
              "      background-color: #E8F0FE;\n",
              "      border: none;\n",
              "      border-radius: 50%;\n",
              "      cursor: pointer;\n",
              "      display: none;\n",
              "      fill: #1967D2;\n",
              "      height: 32px;\n",
              "      padding: 0 0 0 0;\n",
              "      width: 32px;\n",
              "    }\n",
              "\n",
              "    .colab-df-convert:hover {\n",
              "      background-color: #E2EBFA;\n",
              "      box-shadow: 0px 1px 2px rgba(60, 64, 67, 0.3), 0px 1px 3px 1px rgba(60, 64, 67, 0.15);\n",
              "      fill: #174EA6;\n",
              "    }\n",
              "\n",
              "    .colab-df-buttons div {\n",
              "      margin-bottom: 4px;\n",
              "    }\n",
              "\n",
              "    [theme=dark] .colab-df-convert {\n",
              "      background-color: #3B4455;\n",
              "      fill: #D2E3FC;\n",
              "    }\n",
              "\n",
              "    [theme=dark] .colab-df-convert:hover {\n",
              "      background-color: #434B5C;\n",
              "      box-shadow: 0px 1px 3px 1px rgba(0, 0, 0, 0.15);\n",
              "      filter: drop-shadow(0px 1px 2px rgba(0, 0, 0, 0.3));\n",
              "      fill: #FFFFFF;\n",
              "    }\n",
              "  </style>\n",
              "\n",
              "    <script>\n",
              "      const buttonEl =\n",
              "        document.querySelector('#df-9242f5ce-b1bc-414c-95e8-86a4b6b75224 button.colab-df-convert');\n",
              "      buttonEl.style.display =\n",
              "        google.colab.kernel.accessAllowed ? 'block' : 'none';\n",
              "\n",
              "      async function convertToInteractive(key) {\n",
              "        const element = document.querySelector('#df-9242f5ce-b1bc-414c-95e8-86a4b6b75224');\n",
              "        const dataTable =\n",
              "          await google.colab.kernel.invokeFunction('convertToInteractive',\n",
              "                                                    [key], {});\n",
              "        if (!dataTable) return;\n",
              "\n",
              "        const docLinkHtml = 'Like what you see? Visit the ' +\n",
              "          '<a target=\"_blank\" href=https://colab.research.google.com/notebooks/data_table.ipynb>data table notebook</a>'\n",
              "          + ' to learn more about interactive tables.';\n",
              "        element.innerHTML = '';\n",
              "        dataTable['output_type'] = 'display_data';\n",
              "        await google.colab.output.renderOutput(dataTable, element);\n",
              "        const docLink = document.createElement('div');\n",
              "        docLink.innerHTML = docLinkHtml;\n",
              "        element.appendChild(docLink);\n",
              "      }\n",
              "    </script>\n",
              "  </div>\n",
              "\n",
              "\n",
              "    </div>\n",
              "  </div>\n"
            ],
            "application/vnd.google.colaboratory.intrinsic+json": {
              "type": "dataframe",
              "repr_error": "Out of range float values are not JSON compliant: nan"
            }
          },
          "metadata": {},
          "execution_count": 11
        }
      ]
    },
    {
      "cell_type": "code",
      "source": [
        "# no duplicate data was found, but to ensure accuracy, we performed a second check\n",
        "dirty_data.duplicated().sum()"
      ],
      "metadata": {
        "colab": {
          "base_uri": "https://localhost:8080/"
        },
        "id": "dqdjqtHsbJqp",
        "outputId": "0308b5c7-3886-4d62-d0e4-ee713a5afb7f"
      },
      "execution_count": 12,
      "outputs": [
        {
          "output_type": "execute_result",
          "data": {
            "text/plain": [
              "0"
            ]
          },
          "metadata": {},
          "execution_count": 12
        }
      ]
    },
    {
      "cell_type": "markdown",
      "source": [
        "***From this point, we carefully inspected each observation in every column. We chose not to remove any columns. Some columns did not need any changing, however we checked them and leave those codes. This ensured that every column and its observations were thoroughly reviewed and accounted for.***\n"
      ],
      "metadata": {
        "id": "TK5x1J6guXKH"
      }
    },
    {
      "cell_type": "markdown",
      "source": [
        "# ***For Gender***"
      ],
      "metadata": {
        "id": "_LWm9AjLv4eX"
      }
    },
    {
      "cell_type": "code",
      "source": [
        "# we checked to see if there are any entry inconsistencies in the observations\n",
        "print(dirty_data['Gender'].value_counts())"
      ],
      "metadata": {
        "colab": {
          "base_uri": "https://localhost:8080/"
        },
        "id": "ZCUG9Cdyne_H",
        "outputId": "815c1739-a720-473f-922a-b06d2715e21a"
      },
      "execution_count": 13,
      "outputs": [
        {
          "output_type": "stream",
          "name": "stdout",
          "text": [
            "Gender\n",
            "Female    505\n",
            "Male      484\n",
            "MaLE        6\n",
            "fEMALE      5\n",
            "Name: count, dtype: int64\n"
          ]
        }
      ]
    },
    {
      "cell_type": "code",
      "source": [
        "# we standardized the text format in the \"Gender\" column by capitalizing the first letter of each word\n",
        "dirty_data['Gender']=dirty_data['Gender'].str.title()\n",
        "print(dirty_data['Gender'].value_counts())"
      ],
      "metadata": {
        "colab": {
          "base_uri": "https://localhost:8080/"
        },
        "id": "9Xt9vZtinrBT",
        "outputId": "4cc307a3-2acd-4401-b348-b554379e151c"
      },
      "execution_count": 14,
      "outputs": [
        {
          "output_type": "stream",
          "name": "stdout",
          "text": [
            "Gender\n",
            "Female    510\n",
            "Male      490\n",
            "Name: count, dtype: int64\n"
          ]
        }
      ]
    },
    {
      "cell_type": "markdown",
      "source": [
        "# ***For Customer Type***"
      ],
      "metadata": {
        "id": "isTLwquUwIke"
      }
    },
    {
      "cell_type": "code",
      "source": [
        "# we checked to see if there are any entry inconsistencies in the observations\n",
        "print(dirty_data['Customer Type'].value_counts())"
      ],
      "metadata": {
        "colab": {
          "base_uri": "https://localhost:8080/"
        },
        "id": "yZDy9-2MoTuE",
        "outputId": "87cba56a-cb6e-4a42-ecf2-9362090487e1"
      },
      "execution_count": 15,
      "outputs": [
        {
          "output_type": "stream",
          "name": "stdout",
          "text": [
            "Customer Type\n",
            "Loyal Customer       583\n",
            "Disloyal Customer    388\n",
            "Disloyal_Customer      9\n",
            "Loyal_Customer         6\n",
            "disloyal Customer      3\n",
            "disloyal               2\n",
            "Loyal                  1\n",
            "Name: count, dtype: int64\n"
          ]
        }
      ]
    },
    {
      "cell_type": "code",
      "source": [
        "# we standardized the text format in the \"Customer Type\" column by capitalizing the first letter of each word\n",
        "dirty_data['Customer Type'] = dirty_data['Customer Type'].str.title()\n",
        "print(dirty_data['Customer Type'].value_counts())"
      ],
      "metadata": {
        "colab": {
          "base_uri": "https://localhost:8080/"
        },
        "id": "MIKWsqT5pqaz",
        "outputId": "5c820a81-a595-47e8-8178-d9568fb26082"
      },
      "execution_count": 16,
      "outputs": [
        {
          "output_type": "stream",
          "name": "stdout",
          "text": [
            "Customer Type\n",
            "Loyal Customer       583\n",
            "Disloyal Customer    391\n",
            "Disloyal_Customer      9\n",
            "Loyal_Customer         6\n",
            "Disloyal               2\n",
            "Loyal                  1\n",
            "Name: count, dtype: int64\n"
          ]
        }
      ]
    },
    {
      "cell_type": "code",
      "source": [
        "# we cleaned unnecessary characters and white spaces in the \"Customer Type\" column and made it more consistent\n",
        "dirty_data['Customer Type'] = dirty_data['Customer Type'].str.replace('_', ' ')\n",
        "dirty_data['Customer Type'] = dirty_data['Customer Type'].str.strip()\n",
        "dirty_data['Customer Type'] = dirty_data['Customer Type'].replace({'Loyal': 'Loyal Customer', 'Disloyal': 'Disloyal Customer'})\n",
        "print(dirty_data['Customer Type'].value_counts())"
      ],
      "metadata": {
        "colab": {
          "base_uri": "https://localhost:8080/"
        },
        "id": "-pmF582voaX3",
        "outputId": "b725d279-90e8-4f15-d449-46faae9aec02"
      },
      "execution_count": 17,
      "outputs": [
        {
          "output_type": "stream",
          "name": "stdout",
          "text": [
            "Customer Type\n",
            "Loyal Customer       590\n",
            "Disloyal Customer    402\n",
            "Name: count, dtype: int64\n"
          ]
        }
      ]
    },
    {
      "cell_type": "markdown",
      "source": [
        "# ***For Age***"
      ],
      "metadata": {
        "id": "ZcjeU2eZwRG3"
      }
    },
    {
      "cell_type": "code",
      "source": [
        "# we checked to see if there are any entry inconsistencies in the observations\n",
        "print(dirty_data['Age'].value_counts())"
      ],
      "metadata": {
        "colab": {
          "base_uri": "https://localhost:8080/"
        },
        "id": "qA3yB-ClvUpE",
        "outputId": "0acfe5a0-70d2-432b-a797-196dbe808a75"
      },
      "execution_count": 18,
      "outputs": [
        {
          "output_type": "stream",
          "name": "stdout",
          "text": [
            "Age\n",
            " 43.0    51\n",
            " 42.0    50\n",
            " 45.0    41\n",
            " 41.0    40\n",
            " 38.0    38\n",
            " 36.0    38\n",
            " 39.0    37\n",
            " 35.0    37\n",
            " 40.0    35\n",
            " 44.0    34\n",
            " 34.0    34\n",
            " 32.0    32\n",
            " 37.0    32\n",
            " 31.0    31\n",
            " 30.0    30\n",
            " 33.0    28\n",
            " 50.0    28\n",
            " 48.0    27\n",
            " 47.0    26\n",
            " 49.0    25\n",
            " 28.0    23\n",
            " 46.0    23\n",
            " 51.0    22\n",
            " 52.0    20\n",
            " 26.0    20\n",
            " 29.0    19\n",
            " 18.0    19\n",
            " 24.0    18\n",
            " 25.0    14\n",
            " 53.0    14\n",
            " 56.0    12\n",
            " 21.0    11\n",
            " 19.0    10\n",
            " 27.0     9\n",
            " 20.0     9\n",
            " 54.0     9\n",
            " 23.0     7\n",
            " 60.0     7\n",
            " 58.0     7\n",
            " 22.0     6\n",
            " 61.0     4\n",
            " 59.0     4\n",
            " 55.0     4\n",
            " 63.0     3\n",
            " 57.0     2\n",
            " 62.0     1\n",
            " 64.0     1\n",
            " 65.0     1\n",
            " 72.0     1\n",
            " 71.0     1\n",
            " 68.0     1\n",
            "-34.0     1\n",
            "-48.0     1\n",
            "Name: count, dtype: int64\n"
          ]
        }
      ]
    },
    {
      "cell_type": "code",
      "source": [
        "# we identified negative values in the \"Age\" column. Since age cannot be negative and the absolute values of these entries correspond to plausible ages\n",
        "dirty_data['Age'] = dirty_data['Age'].abs()\n",
        "print(dirty_data['Age'].value_counts())"
      ],
      "metadata": {
        "colab": {
          "base_uri": "https://localhost:8080/"
        },
        "id": "Vr0S9znlvtNO",
        "outputId": "97298d11-d76a-47f5-99e6-5a8071fc3c50"
      },
      "execution_count": 19,
      "outputs": [
        {
          "output_type": "stream",
          "name": "stdout",
          "text": [
            "Age\n",
            "43.0    51\n",
            "42.0    50\n",
            "45.0    41\n",
            "41.0    40\n",
            "38.0    38\n",
            "36.0    38\n",
            "39.0    37\n",
            "35.0    37\n",
            "34.0    35\n",
            "40.0    35\n",
            "44.0    34\n",
            "32.0    32\n",
            "37.0    32\n",
            "31.0    31\n",
            "30.0    30\n",
            "48.0    28\n",
            "33.0    28\n",
            "50.0    28\n",
            "47.0    26\n",
            "49.0    25\n",
            "46.0    23\n",
            "28.0    23\n",
            "51.0    22\n",
            "52.0    20\n",
            "26.0    20\n",
            "29.0    19\n",
            "18.0    19\n",
            "24.0    18\n",
            "25.0    14\n",
            "53.0    14\n",
            "56.0    12\n",
            "21.0    11\n",
            "19.0    10\n",
            "54.0     9\n",
            "20.0     9\n",
            "27.0     9\n",
            "58.0     7\n",
            "60.0     7\n",
            "23.0     7\n",
            "22.0     6\n",
            "55.0     4\n",
            "61.0     4\n",
            "59.0     4\n",
            "63.0     3\n",
            "57.0     2\n",
            "72.0     1\n",
            "64.0     1\n",
            "62.0     1\n",
            "65.0     1\n",
            "71.0     1\n",
            "68.0     1\n",
            "Name: count, dtype: int64\n"
          ]
        }
      ]
    },
    {
      "cell_type": "markdown",
      "source": [
        "# ***For Type of Travel***"
      ],
      "metadata": {
        "id": "wXijeV2OwXKn"
      }
    },
    {
      "cell_type": "code",
      "source": [
        "# we checked to see if there are any entry inconsistencies in the observations\n",
        "print(dirty_data['Type of Travel'].value_counts())"
      ],
      "metadata": {
        "colab": {
          "base_uri": "https://localhost:8080/"
        },
        "id": "5-C_Vcf_w_gX",
        "outputId": "a7c024b9-9254-4e37-b207-576e110cf95d"
      },
      "execution_count": 20,
      "outputs": [
        {
          "output_type": "stream",
          "name": "stdout",
          "text": [
            "Type of Travel\n",
            "Business Travel    702\n",
            "Personal Travel    281\n",
            "PERSONAL TRAVEL      2\n",
            "business Travel      1\n",
            "personal travel      1\n",
            "Name: count, dtype: int64\n"
          ]
        }
      ]
    },
    {
      "cell_type": "code",
      "source": [
        "# we standardized the text format in the \"Customer Type\" column by capitalizing the first letter of each word\n",
        "dirty_data['Type of Travel'] = dirty_data['Type of Travel'].str.title()\n",
        "print(dirty_data['Type of Travel'].value_counts())"
      ],
      "metadata": {
        "colab": {
          "base_uri": "https://localhost:8080/"
        },
        "id": "ewVvu61lxPc-",
        "outputId": "b0bf4f4e-14b1-41d3-8107-d68204b39116"
      },
      "execution_count": 21,
      "outputs": [
        {
          "output_type": "stream",
          "name": "stdout",
          "text": [
            "Type of Travel\n",
            "Business Travel    703\n",
            "Personal Travel    284\n",
            "Name: count, dtype: int64\n"
          ]
        }
      ]
    },
    {
      "cell_type": "markdown",
      "source": [
        "# ***For Class***"
      ],
      "metadata": {
        "id": "D6siI6vPwkYK"
      }
    },
    {
      "cell_type": "code",
      "source": [
        "# we checked to see if there are any entry inconsistencies in the observations\n",
        "print(dirty_data['Class'].value_counts())"
      ],
      "metadata": {
        "colab": {
          "base_uri": "https://localhost:8080/"
        },
        "id": "W2j-WOF6xugj",
        "outputId": "839941f5-df93-497e-ee2f-61d191e68a8c"
      },
      "execution_count": 22,
      "outputs": [
        {
          "output_type": "stream",
          "name": "stdout",
          "text": [
            "Class\n",
            "Eco         505\n",
            "Business    396\n",
            "Eco Plus     90\n",
            "business      2\n",
            "Eco_Plus      1\n",
            "Eco-Plus      1\n",
            "Name: count, dtype: int64\n"
          ]
        }
      ]
    },
    {
      "cell_type": "code",
      "source": [
        "# we standardized the text format in the \"Class\" column by capitalizing the first letter of each word\n",
        "dirty_data['Class'] = dirty_data['Class'].str.title()\n",
        "print(dirty_data['Class'].value_counts())"
      ],
      "metadata": {
        "colab": {
          "base_uri": "https://localhost:8080/"
        },
        "id": "Tp687fdmx4LL",
        "outputId": "cd3ed79e-48f0-4313-9670-20bc25021a91"
      },
      "execution_count": 23,
      "outputs": [
        {
          "output_type": "stream",
          "name": "stdout",
          "text": [
            "Class\n",
            "Eco         505\n",
            "Business    398\n",
            "Eco Plus     90\n",
            "Eco_Plus      1\n",
            "Eco-Plus      1\n",
            "Name: count, dtype: int64\n"
          ]
        }
      ]
    },
    {
      "cell_type": "code",
      "source": [
        "# we cleaned unnecessary characters and white spaces in the \"Class\" column and made it more consistent\n",
        "dirty_data['Class'] = dirty_data['Class'].str.replace('_', ' ')\n",
        "dirty_data['Class'] = dirty_data['Class'].str.replace('-', ' ')\n",
        "dirty_data['Class'] = dirty_data['Class'].str.strip()\n",
        "print(dirty_data['Class'].value_counts())"
      ],
      "metadata": {
        "colab": {
          "base_uri": "https://localhost:8080/"
        },
        "id": "4x5THYdsmgyS",
        "outputId": "c170952a-e666-4411-b0a7-9852876a64b5"
      },
      "execution_count": 24,
      "outputs": [
        {
          "output_type": "stream",
          "name": "stdout",
          "text": [
            "Class\n",
            "Eco         505\n",
            "Business    398\n",
            "Eco Plus     92\n",
            "Name: count, dtype: int64\n"
          ]
        }
      ]
    },
    {
      "cell_type": "markdown",
      "source": [
        "# ***For Flight Distance***"
      ],
      "metadata": {
        "id": "GIlpNayawo8D"
      }
    },
    {
      "cell_type": "code",
      "source": [
        "# we checked to see if there are any entry inconsistencies in the observations\n",
        "print(dirty_data[\"Flight Distance\"].value_counts())"
      ],
      "metadata": {
        "colab": {
          "base_uri": "https://localhost:8080/"
        },
        "id": "CQzkq2Sw22HG",
        "outputId": "79eeef6d-45f8-4748-bd06-35d6f0d26ec4"
      },
      "execution_count": 25,
      "outputs": [
        {
          "output_type": "stream",
          "name": "stdout",
          "text": [
            "Flight Distance\n",
            "300.0     6\n",
            "1574.0    4\n",
            "1429.0    4\n",
            "1371.0    4\n",
            "1230.0    4\n",
            "         ..\n",
            "1304.0    1\n",
            "991.0     1\n",
            "986.0     1\n",
            "1964.0    1\n",
            "1703.0    1\n",
            "Name: count, Length: 762, dtype: int64\n"
          ]
        }
      ]
    },
    {
      "cell_type": "markdown",
      "source": [
        "# ***For Deparature Delay in Minutes***"
      ],
      "metadata": {
        "id": "34G1Bxa5wzuz"
      }
    },
    {
      "cell_type": "code",
      "source": [
        "# we checked to see if there are any entry inconsistencies in the observations\n",
        "print(dirty_data[\"Departure Delay in Minutes\"].value_counts())"
      ],
      "metadata": {
        "id": "V7Lw1JLk3XUO",
        "colab": {
          "base_uri": "https://localhost:8080/"
        },
        "outputId": "adb855e9-29e2-4bbd-e957-dbfed8b5d365"
      },
      "execution_count": 26,
      "outputs": [
        {
          "output_type": "stream",
          "name": "stdout",
          "text": [
            "Departure Delay in Minutes\n",
            "0.0     102\n",
            "1.0      86\n",
            "2.0      85\n",
            "5.0      68\n",
            "3.0      68\n",
            "6.0      60\n",
            "4.0      56\n",
            "7.0      55\n",
            "9.0      39\n",
            "11.0     37\n",
            "8.0      37\n",
            "10.0     36\n",
            "12.0     29\n",
            "13.0     23\n",
            "14.0     17\n",
            "18.0     15\n",
            "17.0     15\n",
            "22.0     15\n",
            "16.0     14\n",
            "15.0     14\n",
            "23.0     13\n",
            "21.0     13\n",
            "19.0     12\n",
            "29.0     11\n",
            "20.0     10\n",
            "28.0      9\n",
            "25.0      8\n",
            "24.0      7\n",
            "27.0      7\n",
            "26.0      6\n",
            "35.0      3\n",
            "32.0      2\n",
            "33.0      2\n",
            "38.0      2\n",
            "36.0      2\n",
            "45.0      2\n",
            "41.0      2\n",
            "42.0      2\n",
            "46.0      1\n",
            "48.0      1\n",
            "30.0      1\n",
            "57.0      1\n",
            "59.0      1\n",
            "37.0      1\n",
            "54.0      1\n",
            "68.0      1\n",
            "31.0      1\n",
            "43.0      1\n",
            "34.0      1\n",
            "47.0      1\n",
            "40.0      1\n",
            "Name: count, dtype: int64\n"
          ]
        }
      ]
    },
    {
      "cell_type": "markdown",
      "source": [
        "# ***For Arrival Delay in Minutes***"
      ],
      "metadata": {
        "id": "P02BLrIIw5N7"
      }
    },
    {
      "cell_type": "code",
      "source": [
        "# we checked to see if there are any entry inconsistencies in the observations\n",
        "print(dirty_data[\"Arrival Delay in Minutes\"].value_counts())"
      ],
      "metadata": {
        "colab": {
          "base_uri": "https://localhost:8080/"
        },
        "id": "BDtXJbF6E2kG",
        "outputId": "1dfdfa61-0f65-4733-842f-e496af37cec8"
      },
      "execution_count": 27,
      "outputs": [
        {
          "output_type": "stream",
          "name": "stdout",
          "text": [
            "Arrival Delay in Minutes\n",
            "0.0     75\n",
            "12.0    55\n",
            "10.0    53\n",
            "6.0     50\n",
            "9.0     49\n",
            "7.0     48\n",
            "11.0    48\n",
            "14.0    41\n",
            "3.0     38\n",
            "4.0     38\n",
            "5.0     36\n",
            "13.0    36\n",
            "15.0    33\n",
            "16.0    31\n",
            "8.0     30\n",
            "17.0    29\n",
            "18.0    26\n",
            "19.0    24\n",
            "23.0    23\n",
            "2.0     23\n",
            "1.0     19\n",
            "22.0    16\n",
            "21.0    15\n",
            "25.0    14\n",
            "26.0    13\n",
            "20.0    12\n",
            "34.0    12\n",
            "27.0    11\n",
            "24.0    10\n",
            "29.0    10\n",
            "33.0     8\n",
            "31.0     7\n",
            "28.0     7\n",
            "30.0     6\n",
            "35.0     5\n",
            "42.0     5\n",
            "38.0     4\n",
            "32.0     4\n",
            "39.0     4\n",
            "36.0     3\n",
            "41.0     3\n",
            "40.0     3\n",
            "37.0     3\n",
            "43.0     2\n",
            "49.0     2\n",
            "52.0     1\n",
            "54.0     1\n",
            "69.0     1\n",
            "62.0     1\n",
            "48.0     1\n",
            "68.0     1\n",
            "60.0     1\n",
            "45.0     1\n",
            "65.0     1\n",
            "53.0     1\n",
            "Name: count, dtype: int64\n"
          ]
        }
      ]
    },
    {
      "cell_type": "markdown",
      "source": [
        "# ***For Inflilight Wifi Service***"
      ],
      "metadata": {
        "id": "Q569XWHUw8su"
      }
    },
    {
      "cell_type": "code",
      "source": [
        "# we checked to see if there are any entry inconsistencies in the observations\n",
        "print(dirty_data[\"Inflight Wifi Service\"].value_counts())"
      ],
      "metadata": {
        "colab": {
          "base_uri": "https://localhost:8080/"
        },
        "id": "BvNUJa06E_xP",
        "outputId": "3dc2ee5e-fe1d-4a92-8e31-e1bdbea4baca"
      },
      "execution_count": 28,
      "outputs": [
        {
          "output_type": "stream",
          "name": "stdout",
          "text": [
            "Inflight Wifi Service\n",
            "3.0    294\n",
            "2.0    213\n",
            "4.0    201\n",
            "1.0    101\n",
            "0.0     98\n",
            "5.0     89\n",
            "Name: count, dtype: int64\n"
          ]
        }
      ]
    },
    {
      "cell_type": "markdown",
      "source": [
        "# ***For Food and Drink***"
      ],
      "metadata": {
        "id": "pF5nM81sxA4l"
      }
    },
    {
      "cell_type": "code",
      "source": [
        "# we checked to see if there are any entry inconsistencies in the observations\n",
        "print(dirty_data[\"Food and Drink\"].value_counts())"
      ],
      "metadata": {
        "colab": {
          "base_uri": "https://localhost:8080/"
        },
        "id": "qkMbBiz9FIyz",
        "outputId": "3b23e085-a3a0-45d0-84a5-0e9af0e27bb2"
      },
      "execution_count": 29,
      "outputs": [
        {
          "output_type": "stream",
          "name": "stdout",
          "text": [
            "Food and Drink\n",
            "3.0    306\n",
            "4.0    262\n",
            "2.0    191\n",
            "1.0    130\n",
            "5.0     99\n",
            "Name: count, dtype: int64\n"
          ]
        }
      ]
    },
    {
      "cell_type": "markdown",
      "source": [
        "# ***For Seat Comfort***"
      ],
      "metadata": {
        "id": "HLT4IKW8xElC"
      }
    },
    {
      "cell_type": "code",
      "source": [
        "# we checked to see if there are any entry inconsistencies in the observations\n",
        "print(dirty_data[\"Seat Comfort\"].value_counts())"
      ],
      "metadata": {
        "colab": {
          "base_uri": "https://localhost:8080/"
        },
        "id": "94zp-C9YFSI8",
        "outputId": "8244b615-e197-4aee-fc39-f71f5ef0ff58"
      },
      "execution_count": 30,
      "outputs": [
        {
          "output_type": "stream",
          "name": "stdout",
          "text": [
            "Seat Comfort\n",
            "3.0    282\n",
            "1.0    208\n",
            "4.0    196\n",
            "2.0    195\n",
            "5.0    110\n",
            "Name: count, dtype: int64\n"
          ]
        }
      ]
    },
    {
      "cell_type": "markdown",
      "source": [
        "# ***For Inflight Entertainment***"
      ],
      "metadata": {
        "id": "Ua06gbfuxHtm"
      }
    },
    {
      "cell_type": "code",
      "source": [
        "# we checked to see if there are any entry inconsistencies in the observations\n",
        "print(dirty_data[\"Inflight Entertainment\"].value_counts())"
      ],
      "metadata": {
        "colab": {
          "base_uri": "https://localhost:8080/"
        },
        "id": "G4C3MFI3Ffg7",
        "outputId": "bff39c7f-24de-4746-f6dd-01c7541f08ab"
      },
      "execution_count": 31,
      "outputs": [
        {
          "output_type": "stream",
          "name": "stdout",
          "text": [
            "Inflight Entertainment\n",
            "3.0    284\n",
            "4.0    242\n",
            "5.0    197\n",
            "2.0    169\n",
            "1.0     98\n",
            "Name: count, dtype: int64\n"
          ]
        }
      ]
    },
    {
      "cell_type": "markdown",
      "source": [
        "# ***For Cleanliness***"
      ],
      "metadata": {
        "id": "rdRTEttsxmJ3"
      }
    },
    {
      "cell_type": "code",
      "source": [
        "# we checked to see if there are any entry inconsistencies in the observations\n",
        "print(dirty_data[\"Cleanliness\"].value_counts())"
      ],
      "metadata": {
        "colab": {
          "base_uri": "https://localhost:8080/"
        },
        "id": "rm6yztUKikjQ",
        "outputId": "2cc25ed2-adeb-4d67-e4e4-41facfe38eba"
      },
      "execution_count": 32,
      "outputs": [
        {
          "output_type": "stream",
          "name": "stdout",
          "text": [
            "Cleanliness\n",
            "4.0    294\n",
            "3.0    287\n",
            "2.0    213\n",
            "1.0    107\n",
            "5.0     94\n",
            "Name: count, dtype: int64\n"
          ]
        }
      ]
    },
    {
      "cell_type": "markdown",
      "source": [
        "# ***For Satisfaction***"
      ],
      "metadata": {
        "id": "w3LNnq4AxsrV"
      }
    },
    {
      "cell_type": "code",
      "source": [
        "# we checked to see if there are any entry inconsistencies in the observations\n",
        "print(dirty_data[\"Satisfaction\"].value_counts())"
      ],
      "metadata": {
        "colab": {
          "base_uri": "https://localhost:8080/"
        },
        "id": "3hMYHktGit2O",
        "outputId": "aa190e40-9e16-450f-dda3-3df212219a82"
      },
      "execution_count": 33,
      "outputs": [
        {
          "output_type": "stream",
          "name": "stdout",
          "text": [
            "Satisfaction\n",
            "Satisfied        503\n",
            "Dissatisfied     257\n",
            "Neutral          204\n",
            "S                  9\n",
            "NEUTRSL            6\n",
            "SATISFY            5\n",
            "D                  3\n",
            " Satisfied         2\n",
            " Dissatisfied      1\n",
            "N                  1\n",
            "D                  1\n",
            "Name: count, dtype: int64\n"
          ]
        }
      ]
    },
    {
      "cell_type": "code",
      "source": [
        "# we standardized the text format in the \"Satisfaction\" column by capitalizing the first letter of each word and removed unnecessary spaces at the beginning and end of the words\n",
        "dirty_data['Satisfaction'] = dirty_data['Satisfaction'].str.title()\n",
        "dirty_data['Satisfaction'] = dirty_data['Satisfaction'].str.strip()\n",
        "print(dirty_data['Satisfaction'].value_counts())"
      ],
      "metadata": {
        "colab": {
          "base_uri": "https://localhost:8080/"
        },
        "id": "Cfd--SzEi2iF",
        "outputId": "eaf45835-c0f9-4aa6-cf09-4c218692604c"
      },
      "execution_count": 34,
      "outputs": [
        {
          "output_type": "stream",
          "name": "stdout",
          "text": [
            "Satisfaction\n",
            "Satisfied       505\n",
            "Dissatisfied    258\n",
            "Neutral         204\n",
            "S                 9\n",
            "Neutrsl           6\n",
            "Satisfy           5\n",
            "D                 4\n",
            "N                 1\n",
            "Name: count, dtype: int64\n"
          ]
        }
      ]
    },
    {
      "cell_type": "code",
      "source": [
        "# we corrected the different types of expressions in the \"Satisfaction\" column and established a standard\n",
        "dirty_data['Satisfaction'] = dirty_data['Satisfaction'].replace({'S': 'Satisfied', 'Neutrsl': 'Neutral', 'N': 'Neutral', 'Not S': 'Not Satisfied', 'D': 'Dissatisfied', 'Satisfy': 'Satisfied'})\n",
        "print(dirty_data['Satisfaction'].value_counts())"
      ],
      "metadata": {
        "colab": {
          "base_uri": "https://localhost:8080/"
        },
        "id": "cnMbNAaojG0p",
        "outputId": "81f02bbe-7611-4298-ddae-9629ca7c8cac"
      },
      "execution_count": 35,
      "outputs": [
        {
          "output_type": "stream",
          "name": "stdout",
          "text": [
            "Satisfaction\n",
            "Satisfied       519\n",
            "Dissatisfied    262\n",
            "Neutral         211\n",
            "Name: count, dtype: int64\n"
          ]
        }
      ]
    },
    {
      "cell_type": "markdown",
      "source": [
        "# ***For Travel Insurance Purchased***"
      ],
      "metadata": {
        "id": "ERP_FYWxx7XN"
      }
    },
    {
      "cell_type": "code",
      "source": [
        "# we checked to see if there are any entry inconsistencies in the observations\n",
        "print(dirty_data['Travel Insurance Purchased'].value_counts())"
      ],
      "metadata": {
        "colab": {
          "base_uri": "https://localhost:8080/"
        },
        "id": "Qc24VsybkIiM",
        "outputId": "073f941d-0577-46a8-c9db-9c117cbcc157"
      },
      "execution_count": 36,
      "outputs": [
        {
          "output_type": "stream",
          "name": "stdout",
          "text": [
            "Travel Insurance Purchased\n",
            "No     690\n",
            "Yes    278\n",
            "NO      10\n",
            "N        9\n",
            "YES      5\n",
            "Nno      5\n",
            "Name: count, dtype: int64\n"
          ]
        }
      ]
    },
    {
      "cell_type": "code",
      "source": [
        "# we standardized the text format in the \"Travel Insurance Purchased\" column by capitalizing the first letter of each word and removed unnecessary spaces at the beginning and end of the words\n",
        "dirty_data['Travel Insurance Purchased'] = dirty_data['Travel Insurance Purchased'].str.title()\n",
        "dirty_data['Travel Insurance Purchased'] = dirty_data['Travel Insurance Purchased'].str.strip()\n",
        "print(dirty_data['Travel Insurance Purchased'].value_counts())"
      ],
      "metadata": {
        "colab": {
          "base_uri": "https://localhost:8080/"
        },
        "id": "zWhUIhk-kXtV",
        "outputId": "0e30d107-7536-4816-812a-36e102ccb430"
      },
      "execution_count": 37,
      "outputs": [
        {
          "output_type": "stream",
          "name": "stdout",
          "text": [
            "Travel Insurance Purchased\n",
            "No     700\n",
            "Yes    283\n",
            "N        9\n",
            "Nno      5\n",
            "Name: count, dtype: int64\n"
          ]
        }
      ]
    },
    {
      "cell_type": "code",
      "source": [
        "# we corrected the differently typed expressions in the \"Travel Insurance Purchased\" column and established a standard\n",
        "dirty_data['Travel Insurance Purchased'] = dirty_data['Travel Insurance Purchased'].replace({'N': 'No', 'Nno': 'No'})\n",
        "print(dirty_data['Travel Insurance Purchased'].value_counts())"
      ],
      "metadata": {
        "colab": {
          "base_uri": "https://localhost:8080/"
        },
        "id": "J6OBvstnkfAL",
        "outputId": "cfe52a37-951d-4c23-b388-5f41754941c1"
      },
      "execution_count": 38,
      "outputs": [
        {
          "output_type": "stream",
          "name": "stdout",
          "text": [
            "Travel Insurance Purchased\n",
            "No     714\n",
            "Yes    283\n",
            "Name: count, dtype: int64\n"
          ]
        }
      ]
    },
    {
      "cell_type": "markdown",
      "source": [
        "# ***For Travel Time (Minutes)***"
      ],
      "metadata": {
        "id": "utpqf3gxyiCF"
      }
    },
    {
      "cell_type": "code",
      "source": [
        "# we sorted and printed the values in the \"Total Travel Time (Minutes)\" column to identify any potential inconsistencies or errors\n",
        "sorted_ttt_data = dirty_data['Total Travel Time (Minutes)'].sort_values()\n",
        "print(sorted_ttt_data)"
      ],
      "metadata": {
        "colab": {
          "base_uri": "https://localhost:8080/"
        },
        "id": "_cW7wQqzk50A",
        "outputId": "677f1838-778e-4361-d73e-6371e03f7ed4"
      },
      "execution_count": 39,
      "outputs": [
        {
          "output_type": "stream",
          "name": "stdout",
          "text": [
            "987   -269.0\n",
            "13    -139.0\n",
            "298     29.0\n",
            "932     31.0\n",
            "955     31.0\n",
            "       ...  \n",
            "69       NaN\n",
            "84       NaN\n",
            "115      NaN\n",
            "194      NaN\n",
            "212      NaN\n",
            "Name: Total Travel Time (Minutes), Length: 1000, dtype: float64\n"
          ]
        }
      ]
    },
    {
      "cell_type": "code",
      "source": [
        "# we identified negative values in the 'Total Travel Time (Minutes)' column. Since total travel time cannot be negative and the absolute values of these entries correspond to plausible time values, we assumed these to be typo errors and converted them to their absolute values\n",
        "dirty_data['Total Travel Time (Minutes)'] = dirty_data['Total Travel Time (Minutes)'].abs()\n",
        "sorted_ttt_data = dirty_data['Total Travel Time (Minutes)'].sort_values()\n",
        "print(sorted_ttt_data)"
      ],
      "metadata": {
        "colab": {
          "base_uri": "https://localhost:8080/"
        },
        "id": "6ahGp6nmlEtY",
        "outputId": "0dbe6726-7b52-42fb-8e46-9305d100e514"
      },
      "execution_count": 40,
      "outputs": [
        {
          "output_type": "stream",
          "name": "stdout",
          "text": [
            "298    29.0\n",
            "932    31.0\n",
            "955    31.0\n",
            "65     32.0\n",
            "83     33.0\n",
            "       ... \n",
            "69      NaN\n",
            "84      NaN\n",
            "115     NaN\n",
            "194     NaN\n",
            "212     NaN\n",
            "Name: Total Travel Time (Minutes), Length: 1000, dtype: float64\n"
          ]
        }
      ]
    },
    {
      "cell_type": "markdown",
      "source": [
        "*Note: NaN values will be addressed and corrected at a later stage.*"
      ],
      "metadata": {
        "id": "7v8u3FuCxA35"
      }
    },
    {
      "cell_type": "markdown",
      "source": [
        "# ***For Price Of Ticket ($)***"
      ],
      "metadata": {
        "id": "UuxlUBVkyo2J"
      }
    },
    {
      "cell_type": "code",
      "source": [
        "# we sorted and printed the values in the 'Price Of Ticket ($)' column to identify any potential inconsistencies or errors\n",
        "sorted_pot_data = dirty_data.sort_values(by=['Price of Ticket ($)'], ascending=False)\n",
        "print(sorted_pot_data['Price of Ticket ($)'])"
      ],
      "metadata": {
        "colab": {
          "base_uri": "https://localhost:8080/"
        },
        "id": "kmmA3DY1lgaK",
        "outputId": "5da02897-bd0b-4d7f-92b4-26cbea248b8e"
      },
      "execution_count": 41,
      "outputs": [
        {
          "output_type": "stream",
          "name": "stdout",
          "text": [
            "884    878$\n",
            "382    868$\n",
            "144    859$\n",
            "851     84$\n",
            "886    823$\n",
            "       ... \n",
            "705    101$\n",
            "869    100$\n",
            "478    -28$\n",
            "374     -2$\n",
            "149     NaN\n",
            "Name: Price of Ticket ($), Length: 1000, dtype: object\n"
          ]
        }
      ]
    },
    {
      "cell_type": "code",
      "source": [
        "# we removed the dollar symbol from the \"Price of Ticket ($)\" column, converted it to a numerical format, and sorted the data in descending order to display ticket prices from highest to lowest\n",
        "if dirty_data['Price of Ticket ($)'].dtype == object:\n",
        "    dirty_data['Price of Ticket ($)'] = dirty_data['Price of Ticket ($)'].str.replace('$', '', regex=False).astype(float)\n",
        "sorted_pot_data = dirty_data.sort_values(by=['Price of Ticket ($)'], ascending=False)\n",
        "print(sorted_pot_data['Price of Ticket ($)'])"
      ],
      "metadata": {
        "colab": {
          "base_uri": "https://localhost:8080/"
        },
        "id": "LiatCedkl_vw",
        "outputId": "c9887a39-5faf-4e64-8a21-a2ea6148c45e"
      },
      "execution_count": 42,
      "outputs": [
        {
          "output_type": "stream",
          "name": "stdout",
          "text": [
            "884    878.0\n",
            "382    868.0\n",
            "144    859.0\n",
            "886    823.0\n",
            "184    812.0\n",
            "       ...  \n",
            "174     63.0\n",
            "653     58.0\n",
            "374     -2.0\n",
            "478    -28.0\n",
            "149      NaN\n",
            "Name: Price of Ticket ($), Length: 1000, dtype: float64\n"
          ]
        }
      ]
    },
    {
      "cell_type": "code",
      "source": [
        "# we identified negative values in the 'Price of Ticket ($)' column. Since price of ticket cannot be negative and the absolute values of these entries correspond to plausible prices, we assumed these to be typo errors and converted them to their absolute values\n",
        "dirty_data['Price of Ticket ($)'] = dirty_data['Price of Ticket ($)'].abs()\n",
        "sorted_pot_data = dirty_data.sort_values(by=['Price of Ticket ($)'], ascending=False)\n",
        "print(sorted_pot_data['Price of Ticket ($)'])"
      ],
      "metadata": {
        "colab": {
          "base_uri": "https://localhost:8080/"
        },
        "id": "VBzNub5K9AqU",
        "outputId": "62a3ecc4-44da-4cd3-aa70-f88508c91074"
      },
      "execution_count": 43,
      "outputs": [
        {
          "output_type": "stream",
          "name": "stdout",
          "text": [
            "884    878.0\n",
            "382    868.0\n",
            "144    859.0\n",
            "886    823.0\n",
            "184    812.0\n",
            "       ...  \n",
            "174     63.0\n",
            "653     58.0\n",
            "478     28.0\n",
            "374      2.0\n",
            "149      NaN\n",
            "Name: Price of Ticket ($), Length: 1000, dtype: float64\n"
          ]
        }
      ]
    },
    {
      "cell_type": "markdown",
      "source": [
        "*Note: NaN values will be addressed and corrected at a later stage.*"
      ],
      "metadata": {
        "id": "KzkDOR8yxQB5"
      }
    },
    {
      "cell_type": "markdown",
      "source": [
        "***The initial review of all columns,  the correction of typo errors and some other preliminary cleaning steps, has been completed.***\n"
      ],
      "metadata": {
        "id": "YrjhQYS4zPV2"
      }
    },
    {
      "cell_type": "markdown",
      "source": [
        "# ***The identification and cleaning of outliers.***\n"
      ],
      "metadata": {
        "id": "Bu1Ez8LE0bkf"
      }
    },
    {
      "cell_type": "code",
      "source": [
        "dirty_data.info()"
      ],
      "metadata": {
        "colab": {
          "base_uri": "https://localhost:8080/"
        },
        "id": "KtM6tmVBmWAN",
        "outputId": "05f14052-d5e9-4062-eddf-93d904f7d57a"
      },
      "execution_count": 44,
      "outputs": [
        {
          "output_type": "stream",
          "name": "stdout",
          "text": [
            "<class 'pandas.core.frame.DataFrame'>\n",
            "RangeIndex: 1000 entries, 0 to 999\n",
            "Data columns (total 17 columns):\n",
            " #   Column                       Non-Null Count  Dtype  \n",
            "---  ------                       --------------  -----  \n",
            " 0   Gender                       1000 non-null   object \n",
            " 1   Customer Type                992 non-null    object \n",
            " 2   Age                          998 non-null    float64\n",
            " 3   Type of Travel               987 non-null    object \n",
            " 4   Class                        995 non-null    object \n",
            " 5   Flight Distance              993 non-null    float64\n",
            " 6   Departure Delay in Minutes   997 non-null    float64\n",
            " 7   Arrival Delay in Minutes     994 non-null    float64\n",
            " 8   Inflight Wifi Service        996 non-null    object \n",
            " 9   Food and Drink               988 non-null    object \n",
            " 10  Seat Comfort                 991 non-null    object \n",
            " 11  Inflight Entertainment       990 non-null    object \n",
            " 12  Cleanliness                  995 non-null    object \n",
            " 13  Satisfaction                 992 non-null    object \n",
            " 14  Travel Insurance Purchased   997 non-null    object \n",
            " 15  Total Travel Time (Minutes)  995 non-null    float64\n",
            " 16  Price of Ticket ($)          999 non-null    float64\n",
            "dtypes: float64(6), object(11)\n",
            "memory usage: 132.9+ KB\n"
          ]
        }
      ]
    },
    {
      "cell_type": "code",
      "source": [
        "# displaying descriptive statistics for numerical columns\n",
        "numerical_stats = dirty_data.describe()\n",
        "numerical_stats.transpose()\n"
      ],
      "metadata": {
        "colab": {
          "base_uri": "https://localhost:8080/",
          "height": 238
        },
        "id": "SoYA7yMemGxQ",
        "outputId": "08532bb8-f409-4667-8179-0b488f2c0ba8"
      },
      "execution_count": 45,
      "outputs": [
        {
          "output_type": "execute_result",
          "data": {
            "text/plain": [
              "                             count         mean         std    min     25%  \\\n",
              "Age                          998.0    39.003006    9.745456   18.0    32.0   \n",
              "Flight Distance              993.0  1492.548842  489.265232  300.0  1170.0   \n",
              "Departure Delay in Minutes   997.0     8.900702    9.302328    0.0     2.0   \n",
              "Arrival Delay in Minutes     994.0    13.335010   10.597813    0.0     6.0   \n",
              "Total Travel Time (Minutes)  995.0   192.562814   76.355206   29.0   142.0   \n",
              "Price of Ticket ($)          999.0   419.558559  147.244056    2.0   309.0   \n",
              "\n",
              "                                50%     75%     max  \n",
              "Age                            39.0    45.0    72.0  \n",
              "Flight Distance              1489.0  1827.0  3056.0  \n",
              "Departure Delay in Minutes      6.0    12.0    68.0  \n",
              "Arrival Delay in Minutes       11.0    18.0    69.0  \n",
              "Total Travel Time (Minutes)   183.0   233.5   488.0  \n",
              "Price of Ticket ($)           415.0   521.5   878.0  "
            ],
            "text/html": [
              "\n",
              "  <div id=\"df-b9bb916f-0c9b-4968-a62f-857136595677\" class=\"colab-df-container\">\n",
              "    <div>\n",
              "<style scoped>\n",
              "    .dataframe tbody tr th:only-of-type {\n",
              "        vertical-align: middle;\n",
              "    }\n",
              "\n",
              "    .dataframe tbody tr th {\n",
              "        vertical-align: top;\n",
              "    }\n",
              "\n",
              "    .dataframe thead th {\n",
              "        text-align: right;\n",
              "    }\n",
              "</style>\n",
              "<table border=\"1\" class=\"dataframe\">\n",
              "  <thead>\n",
              "    <tr style=\"text-align: right;\">\n",
              "      <th></th>\n",
              "      <th>count</th>\n",
              "      <th>mean</th>\n",
              "      <th>std</th>\n",
              "      <th>min</th>\n",
              "      <th>25%</th>\n",
              "      <th>50%</th>\n",
              "      <th>75%</th>\n",
              "      <th>max</th>\n",
              "    </tr>\n",
              "  </thead>\n",
              "  <tbody>\n",
              "    <tr>\n",
              "      <th>Age</th>\n",
              "      <td>998.0</td>\n",
              "      <td>39.003006</td>\n",
              "      <td>9.745456</td>\n",
              "      <td>18.0</td>\n",
              "      <td>32.0</td>\n",
              "      <td>39.0</td>\n",
              "      <td>45.0</td>\n",
              "      <td>72.0</td>\n",
              "    </tr>\n",
              "    <tr>\n",
              "      <th>Flight Distance</th>\n",
              "      <td>993.0</td>\n",
              "      <td>1492.548842</td>\n",
              "      <td>489.265232</td>\n",
              "      <td>300.0</td>\n",
              "      <td>1170.0</td>\n",
              "      <td>1489.0</td>\n",
              "      <td>1827.0</td>\n",
              "      <td>3056.0</td>\n",
              "    </tr>\n",
              "    <tr>\n",
              "      <th>Departure Delay in Minutes</th>\n",
              "      <td>997.0</td>\n",
              "      <td>8.900702</td>\n",
              "      <td>9.302328</td>\n",
              "      <td>0.0</td>\n",
              "      <td>2.0</td>\n",
              "      <td>6.0</td>\n",
              "      <td>12.0</td>\n",
              "      <td>68.0</td>\n",
              "    </tr>\n",
              "    <tr>\n",
              "      <th>Arrival Delay in Minutes</th>\n",
              "      <td>994.0</td>\n",
              "      <td>13.335010</td>\n",
              "      <td>10.597813</td>\n",
              "      <td>0.0</td>\n",
              "      <td>6.0</td>\n",
              "      <td>11.0</td>\n",
              "      <td>18.0</td>\n",
              "      <td>69.0</td>\n",
              "    </tr>\n",
              "    <tr>\n",
              "      <th>Total Travel Time (Minutes)</th>\n",
              "      <td>995.0</td>\n",
              "      <td>192.562814</td>\n",
              "      <td>76.355206</td>\n",
              "      <td>29.0</td>\n",
              "      <td>142.0</td>\n",
              "      <td>183.0</td>\n",
              "      <td>233.5</td>\n",
              "      <td>488.0</td>\n",
              "    </tr>\n",
              "    <tr>\n",
              "      <th>Price of Ticket ($)</th>\n",
              "      <td>999.0</td>\n",
              "      <td>419.558559</td>\n",
              "      <td>147.244056</td>\n",
              "      <td>2.0</td>\n",
              "      <td>309.0</td>\n",
              "      <td>415.0</td>\n",
              "      <td>521.5</td>\n",
              "      <td>878.0</td>\n",
              "    </tr>\n",
              "  </tbody>\n",
              "</table>\n",
              "</div>\n",
              "    <div class=\"colab-df-buttons\">\n",
              "\n",
              "  <div class=\"colab-df-container\">\n",
              "    <button class=\"colab-df-convert\" onclick=\"convertToInteractive('df-b9bb916f-0c9b-4968-a62f-857136595677')\"\n",
              "            title=\"Convert this dataframe to an interactive table.\"\n",
              "            style=\"display:none;\">\n",
              "\n",
              "  <svg xmlns=\"http://www.w3.org/2000/svg\" height=\"24px\" viewBox=\"0 -960 960 960\">\n",
              "    <path d=\"M120-120v-720h720v720H120Zm60-500h600v-160H180v160Zm220 220h160v-160H400v160Zm0 220h160v-160H400v160ZM180-400h160v-160H180v160Zm440 0h160v-160H620v160ZM180-180h160v-160H180v160Zm440 0h160v-160H620v160Z\"/>\n",
              "  </svg>\n",
              "    </button>\n",
              "\n",
              "  <style>\n",
              "    .colab-df-container {\n",
              "      display:flex;\n",
              "      gap: 12px;\n",
              "    }\n",
              "\n",
              "    .colab-df-convert {\n",
              "      background-color: #E8F0FE;\n",
              "      border: none;\n",
              "      border-radius: 50%;\n",
              "      cursor: pointer;\n",
              "      display: none;\n",
              "      fill: #1967D2;\n",
              "      height: 32px;\n",
              "      padding: 0 0 0 0;\n",
              "      width: 32px;\n",
              "    }\n",
              "\n",
              "    .colab-df-convert:hover {\n",
              "      background-color: #E2EBFA;\n",
              "      box-shadow: 0px 1px 2px rgba(60, 64, 67, 0.3), 0px 1px 3px 1px rgba(60, 64, 67, 0.15);\n",
              "      fill: #174EA6;\n",
              "    }\n",
              "\n",
              "    .colab-df-buttons div {\n",
              "      margin-bottom: 4px;\n",
              "    }\n",
              "\n",
              "    [theme=dark] .colab-df-convert {\n",
              "      background-color: #3B4455;\n",
              "      fill: #D2E3FC;\n",
              "    }\n",
              "\n",
              "    [theme=dark] .colab-df-convert:hover {\n",
              "      background-color: #434B5C;\n",
              "      box-shadow: 0px 1px 3px 1px rgba(0, 0, 0, 0.15);\n",
              "      filter: drop-shadow(0px 1px 2px rgba(0, 0, 0, 0.3));\n",
              "      fill: #FFFFFF;\n",
              "    }\n",
              "  </style>\n",
              "\n",
              "    <script>\n",
              "      const buttonEl =\n",
              "        document.querySelector('#df-b9bb916f-0c9b-4968-a62f-857136595677 button.colab-df-convert');\n",
              "      buttonEl.style.display =\n",
              "        google.colab.kernel.accessAllowed ? 'block' : 'none';\n",
              "\n",
              "      async function convertToInteractive(key) {\n",
              "        const element = document.querySelector('#df-b9bb916f-0c9b-4968-a62f-857136595677');\n",
              "        const dataTable =\n",
              "          await google.colab.kernel.invokeFunction('convertToInteractive',\n",
              "                                                    [key], {});\n",
              "        if (!dataTable) return;\n",
              "\n",
              "        const docLinkHtml = 'Like what you see? Visit the ' +\n",
              "          '<a target=\"_blank\" href=https://colab.research.google.com/notebooks/data_table.ipynb>data table notebook</a>'\n",
              "          + ' to learn more about interactive tables.';\n",
              "        element.innerHTML = '';\n",
              "        dataTable['output_type'] = 'display_data';\n",
              "        await google.colab.output.renderOutput(dataTable, element);\n",
              "        const docLink = document.createElement('div');\n",
              "        docLink.innerHTML = docLinkHtml;\n",
              "        element.appendChild(docLink);\n",
              "      }\n",
              "    </script>\n",
              "  </div>\n",
              "\n",
              "\n",
              "<div id=\"df-4b4102ab-4d8a-400f-8121-5527885c4ba9\">\n",
              "  <button class=\"colab-df-quickchart\" onclick=\"quickchart('df-4b4102ab-4d8a-400f-8121-5527885c4ba9')\"\n",
              "            title=\"Suggest charts\"\n",
              "            style=\"display:none;\">\n",
              "\n",
              "<svg xmlns=\"http://www.w3.org/2000/svg\" height=\"24px\"viewBox=\"0 0 24 24\"\n",
              "     width=\"24px\">\n",
              "    <g>\n",
              "        <path d=\"M19 3H5c-1.1 0-2 .9-2 2v14c0 1.1.9 2 2 2h14c1.1 0 2-.9 2-2V5c0-1.1-.9-2-2-2zM9 17H7v-7h2v7zm4 0h-2V7h2v10zm4 0h-2v-4h2v4z\"/>\n",
              "    </g>\n",
              "</svg>\n",
              "  </button>\n",
              "\n",
              "<style>\n",
              "  .colab-df-quickchart {\n",
              "      --bg-color: #E8F0FE;\n",
              "      --fill-color: #1967D2;\n",
              "      --hover-bg-color: #E2EBFA;\n",
              "      --hover-fill-color: #174EA6;\n",
              "      --disabled-fill-color: #AAA;\n",
              "      --disabled-bg-color: #DDD;\n",
              "  }\n",
              "\n",
              "  [theme=dark] .colab-df-quickchart {\n",
              "      --bg-color: #3B4455;\n",
              "      --fill-color: #D2E3FC;\n",
              "      --hover-bg-color: #434B5C;\n",
              "      --hover-fill-color: #FFFFFF;\n",
              "      --disabled-bg-color: #3B4455;\n",
              "      --disabled-fill-color: #666;\n",
              "  }\n",
              "\n",
              "  .colab-df-quickchart {\n",
              "    background-color: var(--bg-color);\n",
              "    border: none;\n",
              "    border-radius: 50%;\n",
              "    cursor: pointer;\n",
              "    display: none;\n",
              "    fill: var(--fill-color);\n",
              "    height: 32px;\n",
              "    padding: 0;\n",
              "    width: 32px;\n",
              "  }\n",
              "\n",
              "  .colab-df-quickchart:hover {\n",
              "    background-color: var(--hover-bg-color);\n",
              "    box-shadow: 0 1px 2px rgba(60, 64, 67, 0.3), 0 1px 3px 1px rgba(60, 64, 67, 0.15);\n",
              "    fill: var(--button-hover-fill-color);\n",
              "  }\n",
              "\n",
              "  .colab-df-quickchart-complete:disabled,\n",
              "  .colab-df-quickchart-complete:disabled:hover {\n",
              "    background-color: var(--disabled-bg-color);\n",
              "    fill: var(--disabled-fill-color);\n",
              "    box-shadow: none;\n",
              "  }\n",
              "\n",
              "  .colab-df-spinner {\n",
              "    border: 2px solid var(--fill-color);\n",
              "    border-color: transparent;\n",
              "    border-bottom-color: var(--fill-color);\n",
              "    animation:\n",
              "      spin 1s steps(1) infinite;\n",
              "  }\n",
              "\n",
              "  @keyframes spin {\n",
              "    0% {\n",
              "      border-color: transparent;\n",
              "      border-bottom-color: var(--fill-color);\n",
              "      border-left-color: var(--fill-color);\n",
              "    }\n",
              "    20% {\n",
              "      border-color: transparent;\n",
              "      border-left-color: var(--fill-color);\n",
              "      border-top-color: var(--fill-color);\n",
              "    }\n",
              "    30% {\n",
              "      border-color: transparent;\n",
              "      border-left-color: var(--fill-color);\n",
              "      border-top-color: var(--fill-color);\n",
              "      border-right-color: var(--fill-color);\n",
              "    }\n",
              "    40% {\n",
              "      border-color: transparent;\n",
              "      border-right-color: var(--fill-color);\n",
              "      border-top-color: var(--fill-color);\n",
              "    }\n",
              "    60% {\n",
              "      border-color: transparent;\n",
              "      border-right-color: var(--fill-color);\n",
              "    }\n",
              "    80% {\n",
              "      border-color: transparent;\n",
              "      border-right-color: var(--fill-color);\n",
              "      border-bottom-color: var(--fill-color);\n",
              "    }\n",
              "    90% {\n",
              "      border-color: transparent;\n",
              "      border-bottom-color: var(--fill-color);\n",
              "    }\n",
              "  }\n",
              "</style>\n",
              "\n",
              "  <script>\n",
              "    async function quickchart(key) {\n",
              "      const quickchartButtonEl =\n",
              "        document.querySelector('#' + key + ' button');\n",
              "      quickchartButtonEl.disabled = true;  // To prevent multiple clicks.\n",
              "      quickchartButtonEl.classList.add('colab-df-spinner');\n",
              "      try {\n",
              "        const charts = await google.colab.kernel.invokeFunction(\n",
              "            'suggestCharts', [key], {});\n",
              "      } catch (error) {\n",
              "        console.error('Error during call to suggestCharts:', error);\n",
              "      }\n",
              "      quickchartButtonEl.classList.remove('colab-df-spinner');\n",
              "      quickchartButtonEl.classList.add('colab-df-quickchart-complete');\n",
              "    }\n",
              "    (() => {\n",
              "      let quickchartButtonEl =\n",
              "        document.querySelector('#df-4b4102ab-4d8a-400f-8121-5527885c4ba9 button');\n",
              "      quickchartButtonEl.style.display =\n",
              "        google.colab.kernel.accessAllowed ? 'block' : 'none';\n",
              "    })();\n",
              "  </script>\n",
              "</div>\n",
              "\n",
              "    </div>\n",
              "  </div>\n"
            ],
            "application/vnd.google.colaboratory.intrinsic+json": {
              "type": "dataframe",
              "summary": "{\n  \"name\": \"numerical_stats\",\n  \"rows\": 6,\n  \"fields\": [\n    {\n      \"column\": \"count\",\n      \"properties\": {\n        \"dtype\": \"number\",\n        \"std\": 2.3664319132398464,\n        \"min\": 993.0,\n        \"max\": 999.0,\n        \"num_unique_values\": 6,\n        \"samples\": [\n          998.0,\n          993.0,\n          999.0\n        ],\n        \"semantic_type\": \"\",\n        \"description\": \"\"\n      }\n    },\n    {\n      \"column\": \"mean\",\n      \"properties\": {\n        \"dtype\": \"number\",\n        \"std\": 576.3210729335432,\n        \"min\": 8.900702106318956,\n        \"max\": 1492.5488418932528,\n        \"num_unique_values\": 6,\n        \"samples\": [\n          39.003006012024045,\n          1492.5488418932528,\n          419.55855855855856\n        ],\n        \"semantic_type\": \"\",\n        \"description\": \"\"\n      }\n    },\n    {\n      \"column\": \"std\",\n      \"properties\": {\n        \"dtype\": \"number\",\n        \"std\": 187.24227374869838,\n        \"min\": 9.302327811865329,\n        \"max\": 489.26523238642795,\n        \"num_unique_values\": 6,\n        \"samples\": [\n          9.745456003703694,\n          489.26523238642795,\n          147.24405573136312\n        ],\n        \"semantic_type\": \"\",\n        \"description\": \"\"\n      }\n    },\n    {\n      \"column\": \"min\",\n      \"properties\": {\n        \"dtype\": \"number\",\n        \"std\": 119.05362937208872,\n        \"min\": 0.0,\n        \"max\": 300.0,\n        \"num_unique_values\": 5,\n        \"samples\": [\n          300.0,\n          2.0,\n          0.0\n        ],\n        \"semantic_type\": \"\",\n        \"description\": \"\"\n      }\n    },\n    {\n      \"column\": \"25%\",\n      \"properties\": {\n        \"dtype\": \"number\",\n        \"std\": 452.94344753695987,\n        \"min\": 2.0,\n        \"max\": 1170.0,\n        \"num_unique_values\": 6,\n        \"samples\": [\n          32.0,\n          1170.0,\n          309.0\n        ],\n        \"semantic_type\": \"\",\n        \"description\": \"\"\n      }\n    },\n    {\n      \"column\": \"50%\",\n      \"properties\": {\n        \"dtype\": \"number\",\n        \"std\": 576.0390322423184,\n        \"min\": 6.0,\n        \"max\": 1489.0,\n        \"num_unique_values\": 6,\n        \"samples\": [\n          39.0,\n          1489.0,\n          415.0\n        ],\n        \"semantic_type\": \"\",\n        \"description\": \"\"\n      }\n    },\n    {\n      \"column\": \"75%\",\n      \"properties\": {\n        \"dtype\": \"number\",\n        \"std\": 705.7334246489015,\n        \"min\": 12.0,\n        \"max\": 1827.0,\n        \"num_unique_values\": 6,\n        \"samples\": [\n          45.0,\n          1827.0,\n          521.5\n        ],\n        \"semantic_type\": \"\",\n        \"description\": \"\"\n      }\n    },\n    {\n      \"column\": \"max\",\n      \"properties\": {\n        \"dtype\": \"number\",\n        \"std\": 1165.1929310919572,\n        \"min\": 68.0,\n        \"max\": 3056.0,\n        \"num_unique_values\": 6,\n        \"samples\": [\n          72.0,\n          3056.0,\n          878.0\n        ],\n        \"semantic_type\": \"\",\n        \"description\": \"\"\n      }\n    }\n  ]\n}"
            }
          },
          "metadata": {},
          "execution_count": 45
        }
      ]
    },
    {
      "cell_type": "code",
      "source": [
        "# defining a function to calculate outliers\n",
        "def find_outliers_iqr(column):\n",
        "\n",
        "    Q1 = column.quantile(0.25)\n",
        "    Q3 = column.quantile(0.75)\n",
        "    IQR = Q3 - Q1\n",
        "    return (column < (Q1 - 3 * IQR)) | (column > (Q3 + 3 * IQR))\n",
        "\n"
      ],
      "metadata": {
        "id": "H-iFXDdu-qIt"
      },
      "execution_count": 46,
      "outputs": []
    },
    {
      "cell_type": "markdown",
      "source": [
        "*Note: We used 3 IQR instead of 1.5 IQR when identifying outliers because the values initially considered as outliers in our dataset were meaningful for our analysis. Additionally, we wanted to retain their influence in our visualizations without overly reducing their impact. This approach ensured that only extreme outliers were modified.*"
      ],
      "metadata": {
        "id": "7TF7RQ6o3VLo"
      }
    },
    {
      "cell_type": "code",
      "source": [
        "# identifying columns that are applicable for the outlier function\n",
        "outlier_columns = ['Age', 'Flight Distance', 'Departure Delay in Minutes', 'Arrival Delay in Minutes', 'Total Travel Time (Minutes)', 'Price of Ticket ($)']\n",
        "\n",
        "for col in outlier_columns:\n",
        "    outliers = find_outliers_iqr(dirty_data[col])\n",
        "    if not outliers.any():\n",
        "        print(f\"Outliers not detected in {col} \\n\")\n",
        "    else:\n",
        "        print(f\"Outliers detected in {col}:\")\n",
        "        print(dirty_data[col][outliers], \"\\n\")"
      ],
      "metadata": {
        "colab": {
          "base_uri": "https://localhost:8080/"
        },
        "id": "EWisho0xA6n4",
        "outputId": "3b482d39-bd5b-423d-86ef-ba5445913b25",
        "collapsed": true
      },
      "execution_count": 47,
      "outputs": [
        {
          "output_type": "stream",
          "name": "stdout",
          "text": [
            "Outliers not detected in Age \n",
            "\n",
            "Outliers not detected in Flight Distance \n",
            "\n",
            "Outliers detected in Departure Delay in Minutes:\n",
            "132    47.0\n",
            "271    45.0\n",
            "338    43.0\n",
            "411    68.0\n",
            "467    54.0\n",
            "499    45.0\n",
            "551    46.0\n",
            "554    59.0\n",
            "656    57.0\n",
            "861    48.0\n",
            "Name: Departure Delay in Minutes, dtype: float64 \n",
            "\n",
            "Outliers detected in Arrival Delay in Minutes:\n",
            "411    69.0\n",
            "467    62.0\n",
            "551    68.0\n",
            "554    60.0\n",
            "656    65.0\n",
            "Name: Arrival Delay in Minutes, dtype: float64 \n",
            "\n",
            "Outliers not detected in Total Travel Time (Minutes) \n",
            "\n",
            "Outliers not detected in Price of Ticket ($) \n",
            "\n"
          ]
        }
      ]
    },
    {
      "cell_type": "code",
      "source": [
        "# replacing the outliers with the mean\n",
        "\n",
        "for col in outlier_columns:\n",
        "    # detecting outliers\n",
        "    outliers = find_outliers_iqr(dirty_data[col])\n",
        "\n",
        "    # calculating the mean excluding outliers and rounding them\n",
        "    mean_value = round(dirty_data[col].mean())\n",
        "    print(f\"The rounded mean value for {col} is: {mean_value}\")\n",
        "\n",
        "    # replacing outliers with the mean\n",
        "    dirty_data.loc[outliers, col] = mean_value"
      ],
      "metadata": {
        "colab": {
          "base_uri": "https://localhost:8080/"
        },
        "id": "eQFYg6-SDXRh",
        "outputId": "22e172bb-a690-46f2-9cc8-c6518010588a"
      },
      "execution_count": 48,
      "outputs": [
        {
          "output_type": "stream",
          "name": "stdout",
          "text": [
            "The rounded mean value for Age is: 39\n",
            "The rounded mean value for Flight Distance is: 1493\n",
            "The rounded mean value for Departure Delay in Minutes is: 9\n",
            "The rounded mean value for Arrival Delay in Minutes is: 13\n",
            "The rounded mean value for Total Travel Time (Minutes) is: 193\n",
            "The rounded mean value for Price of Ticket ($) is: 420\n"
          ]
        }
      ]
    },
    {
      "cell_type": "code",
      "source": [
        "# rechecking for outliers to ensure they are replaced\n",
        "for col in outlier_columns:\n",
        "    remaining_outliers = find_outliers_iqr(dirty_data[col])\n",
        "    print(f\"Remaining outliers in {col}: {dirty_data[col][remaining_outliers].count()}\")"
      ],
      "metadata": {
        "colab": {
          "base_uri": "https://localhost:8080/"
        },
        "id": "wnctVIPkDyQM",
        "outputId": "05591d98-bd5c-4c06-8920-855cd636b45f"
      },
      "execution_count": 49,
      "outputs": [
        {
          "output_type": "stream",
          "name": "stdout",
          "text": [
            "Remaining outliers in Age: 0\n",
            "Remaining outliers in Flight Distance: 0\n",
            "Remaining outliers in Departure Delay in Minutes: 0\n",
            "Remaining outliers in Arrival Delay in Minutes: 0\n",
            "Remaining outliers in Total Travel Time (Minutes): 0\n",
            "Remaining outliers in Price of Ticket ($): 0\n"
          ]
        }
      ]
    },
    {
      "cell_type": "markdown",
      "source": [
        "# ***The identification and cleaning of NaN values***"
      ],
      "metadata": {
        "id": "GzFqKGDPLHbw"
      }
    },
    {
      "cell_type": "code",
      "source": [
        "dirty_data.info()"
      ],
      "metadata": {
        "colab": {
          "base_uri": "https://localhost:8080/"
        },
        "id": "qvJzeT7_8YLX",
        "outputId": "9b574b18-cc0e-40f6-dda9-32554ec85534"
      },
      "execution_count": 50,
      "outputs": [
        {
          "output_type": "stream",
          "name": "stdout",
          "text": [
            "<class 'pandas.core.frame.DataFrame'>\n",
            "RangeIndex: 1000 entries, 0 to 999\n",
            "Data columns (total 17 columns):\n",
            " #   Column                       Non-Null Count  Dtype  \n",
            "---  ------                       --------------  -----  \n",
            " 0   Gender                       1000 non-null   object \n",
            " 1   Customer Type                992 non-null    object \n",
            " 2   Age                          998 non-null    float64\n",
            " 3   Type of Travel               987 non-null    object \n",
            " 4   Class                        995 non-null    object \n",
            " 5   Flight Distance              993 non-null    float64\n",
            " 6   Departure Delay in Minutes   997 non-null    float64\n",
            " 7   Arrival Delay in Minutes     994 non-null    float64\n",
            " 8   Inflight Wifi Service        996 non-null    object \n",
            " 9   Food and Drink               988 non-null    object \n",
            " 10  Seat Comfort                 991 non-null    object \n",
            " 11  Inflight Entertainment       990 non-null    object \n",
            " 12  Cleanliness                  995 non-null    object \n",
            " 13  Satisfaction                 992 non-null    object \n",
            " 14  Travel Insurance Purchased   997 non-null    object \n",
            " 15  Total Travel Time (Minutes)  995 non-null    float64\n",
            " 16  Price of Ticket ($)          999 non-null    float64\n",
            "dtypes: float64(6), object(11)\n",
            "memory usage: 132.9+ KB\n"
          ]
        }
      ]
    },
    {
      "cell_type": "code",
      "source": [
        "# displaying descriptive statistics for numerical columns\n",
        "numerical_stats = dirty_data.describe()\n",
        "numerical_stats.transpose()"
      ],
      "metadata": {
        "colab": {
          "base_uri": "https://localhost:8080/",
          "height": 238
        },
        "id": "JD0pyDMf8i2m",
        "outputId": "7e8e8c97-7d40-4b76-a84d-18438524cbf2"
      },
      "execution_count": 51,
      "outputs": [
        {
          "output_type": "execute_result",
          "data": {
            "text/plain": [
              "                             count         mean         std    min     25%  \\\n",
              "Age                          998.0    39.003006    9.745456   18.0    32.0   \n",
              "Flight Distance              993.0  1492.548842  489.265232  300.0  1170.0   \n",
              "Departure Delay in Minutes   997.0     8.477432    8.234316    0.0     2.0   \n",
              "Arrival Delay in Minutes     994.0    13.074447    9.942356    0.0     6.0   \n",
              "Total Travel Time (Minutes)  995.0   192.562814   76.355206   29.0   142.0   \n",
              "Price of Ticket ($)          999.0   419.558559  147.244056    2.0   309.0   \n",
              "\n",
              "                                50%     75%     max  \n",
              "Age                            39.0    45.0    72.0  \n",
              "Flight Distance              1489.0  1827.0  3056.0  \n",
              "Departure Delay in Minutes      6.0    12.0    42.0  \n",
              "Arrival Delay in Minutes       11.0    18.0    54.0  \n",
              "Total Travel Time (Minutes)   183.0   233.5   488.0  \n",
              "Price of Ticket ($)           415.0   521.5   878.0  "
            ],
            "text/html": [
              "\n",
              "  <div id=\"df-8c7e4e3b-77b2-4d00-8290-deca9a61c826\" class=\"colab-df-container\">\n",
              "    <div>\n",
              "<style scoped>\n",
              "    .dataframe tbody tr th:only-of-type {\n",
              "        vertical-align: middle;\n",
              "    }\n",
              "\n",
              "    .dataframe tbody tr th {\n",
              "        vertical-align: top;\n",
              "    }\n",
              "\n",
              "    .dataframe thead th {\n",
              "        text-align: right;\n",
              "    }\n",
              "</style>\n",
              "<table border=\"1\" class=\"dataframe\">\n",
              "  <thead>\n",
              "    <tr style=\"text-align: right;\">\n",
              "      <th></th>\n",
              "      <th>count</th>\n",
              "      <th>mean</th>\n",
              "      <th>std</th>\n",
              "      <th>min</th>\n",
              "      <th>25%</th>\n",
              "      <th>50%</th>\n",
              "      <th>75%</th>\n",
              "      <th>max</th>\n",
              "    </tr>\n",
              "  </thead>\n",
              "  <tbody>\n",
              "    <tr>\n",
              "      <th>Age</th>\n",
              "      <td>998.0</td>\n",
              "      <td>39.003006</td>\n",
              "      <td>9.745456</td>\n",
              "      <td>18.0</td>\n",
              "      <td>32.0</td>\n",
              "      <td>39.0</td>\n",
              "      <td>45.0</td>\n",
              "      <td>72.0</td>\n",
              "    </tr>\n",
              "    <tr>\n",
              "      <th>Flight Distance</th>\n",
              "      <td>993.0</td>\n",
              "      <td>1492.548842</td>\n",
              "      <td>489.265232</td>\n",
              "      <td>300.0</td>\n",
              "      <td>1170.0</td>\n",
              "      <td>1489.0</td>\n",
              "      <td>1827.0</td>\n",
              "      <td>3056.0</td>\n",
              "    </tr>\n",
              "    <tr>\n",
              "      <th>Departure Delay in Minutes</th>\n",
              "      <td>997.0</td>\n",
              "      <td>8.477432</td>\n",
              "      <td>8.234316</td>\n",
              "      <td>0.0</td>\n",
              "      <td>2.0</td>\n",
              "      <td>6.0</td>\n",
              "      <td>12.0</td>\n",
              "      <td>42.0</td>\n",
              "    </tr>\n",
              "    <tr>\n",
              "      <th>Arrival Delay in Minutes</th>\n",
              "      <td>994.0</td>\n",
              "      <td>13.074447</td>\n",
              "      <td>9.942356</td>\n",
              "      <td>0.0</td>\n",
              "      <td>6.0</td>\n",
              "      <td>11.0</td>\n",
              "      <td>18.0</td>\n",
              "      <td>54.0</td>\n",
              "    </tr>\n",
              "    <tr>\n",
              "      <th>Total Travel Time (Minutes)</th>\n",
              "      <td>995.0</td>\n",
              "      <td>192.562814</td>\n",
              "      <td>76.355206</td>\n",
              "      <td>29.0</td>\n",
              "      <td>142.0</td>\n",
              "      <td>183.0</td>\n",
              "      <td>233.5</td>\n",
              "      <td>488.0</td>\n",
              "    </tr>\n",
              "    <tr>\n",
              "      <th>Price of Ticket ($)</th>\n",
              "      <td>999.0</td>\n",
              "      <td>419.558559</td>\n",
              "      <td>147.244056</td>\n",
              "      <td>2.0</td>\n",
              "      <td>309.0</td>\n",
              "      <td>415.0</td>\n",
              "      <td>521.5</td>\n",
              "      <td>878.0</td>\n",
              "    </tr>\n",
              "  </tbody>\n",
              "</table>\n",
              "</div>\n",
              "    <div class=\"colab-df-buttons\">\n",
              "\n",
              "  <div class=\"colab-df-container\">\n",
              "    <button class=\"colab-df-convert\" onclick=\"convertToInteractive('df-8c7e4e3b-77b2-4d00-8290-deca9a61c826')\"\n",
              "            title=\"Convert this dataframe to an interactive table.\"\n",
              "            style=\"display:none;\">\n",
              "\n",
              "  <svg xmlns=\"http://www.w3.org/2000/svg\" height=\"24px\" viewBox=\"0 -960 960 960\">\n",
              "    <path d=\"M120-120v-720h720v720H120Zm60-500h600v-160H180v160Zm220 220h160v-160H400v160Zm0 220h160v-160H400v160ZM180-400h160v-160H180v160Zm440 0h160v-160H620v160ZM180-180h160v-160H180v160Zm440 0h160v-160H620v160Z\"/>\n",
              "  </svg>\n",
              "    </button>\n",
              "\n",
              "  <style>\n",
              "    .colab-df-container {\n",
              "      display:flex;\n",
              "      gap: 12px;\n",
              "    }\n",
              "\n",
              "    .colab-df-convert {\n",
              "      background-color: #E8F0FE;\n",
              "      border: none;\n",
              "      border-radius: 50%;\n",
              "      cursor: pointer;\n",
              "      display: none;\n",
              "      fill: #1967D2;\n",
              "      height: 32px;\n",
              "      padding: 0 0 0 0;\n",
              "      width: 32px;\n",
              "    }\n",
              "\n",
              "    .colab-df-convert:hover {\n",
              "      background-color: #E2EBFA;\n",
              "      box-shadow: 0px 1px 2px rgba(60, 64, 67, 0.3), 0px 1px 3px 1px rgba(60, 64, 67, 0.15);\n",
              "      fill: #174EA6;\n",
              "    }\n",
              "\n",
              "    .colab-df-buttons div {\n",
              "      margin-bottom: 4px;\n",
              "    }\n",
              "\n",
              "    [theme=dark] .colab-df-convert {\n",
              "      background-color: #3B4455;\n",
              "      fill: #D2E3FC;\n",
              "    }\n",
              "\n",
              "    [theme=dark] .colab-df-convert:hover {\n",
              "      background-color: #434B5C;\n",
              "      box-shadow: 0px 1px 3px 1px rgba(0, 0, 0, 0.15);\n",
              "      filter: drop-shadow(0px 1px 2px rgba(0, 0, 0, 0.3));\n",
              "      fill: #FFFFFF;\n",
              "    }\n",
              "  </style>\n",
              "\n",
              "    <script>\n",
              "      const buttonEl =\n",
              "        document.querySelector('#df-8c7e4e3b-77b2-4d00-8290-deca9a61c826 button.colab-df-convert');\n",
              "      buttonEl.style.display =\n",
              "        google.colab.kernel.accessAllowed ? 'block' : 'none';\n",
              "\n",
              "      async function convertToInteractive(key) {\n",
              "        const element = document.querySelector('#df-8c7e4e3b-77b2-4d00-8290-deca9a61c826');\n",
              "        const dataTable =\n",
              "          await google.colab.kernel.invokeFunction('convertToInteractive',\n",
              "                                                    [key], {});\n",
              "        if (!dataTable) return;\n",
              "\n",
              "        const docLinkHtml = 'Like what you see? Visit the ' +\n",
              "          '<a target=\"_blank\" href=https://colab.research.google.com/notebooks/data_table.ipynb>data table notebook</a>'\n",
              "          + ' to learn more about interactive tables.';\n",
              "        element.innerHTML = '';\n",
              "        dataTable['output_type'] = 'display_data';\n",
              "        await google.colab.output.renderOutput(dataTable, element);\n",
              "        const docLink = document.createElement('div');\n",
              "        docLink.innerHTML = docLinkHtml;\n",
              "        element.appendChild(docLink);\n",
              "      }\n",
              "    </script>\n",
              "  </div>\n",
              "\n",
              "\n",
              "<div id=\"df-31d7aa50-d60c-4af3-a3b1-4c433af10c62\">\n",
              "  <button class=\"colab-df-quickchart\" onclick=\"quickchart('df-31d7aa50-d60c-4af3-a3b1-4c433af10c62')\"\n",
              "            title=\"Suggest charts\"\n",
              "            style=\"display:none;\">\n",
              "\n",
              "<svg xmlns=\"http://www.w3.org/2000/svg\" height=\"24px\"viewBox=\"0 0 24 24\"\n",
              "     width=\"24px\">\n",
              "    <g>\n",
              "        <path d=\"M19 3H5c-1.1 0-2 .9-2 2v14c0 1.1.9 2 2 2h14c1.1 0 2-.9 2-2V5c0-1.1-.9-2-2-2zM9 17H7v-7h2v7zm4 0h-2V7h2v10zm4 0h-2v-4h2v4z\"/>\n",
              "    </g>\n",
              "</svg>\n",
              "  </button>\n",
              "\n",
              "<style>\n",
              "  .colab-df-quickchart {\n",
              "      --bg-color: #E8F0FE;\n",
              "      --fill-color: #1967D2;\n",
              "      --hover-bg-color: #E2EBFA;\n",
              "      --hover-fill-color: #174EA6;\n",
              "      --disabled-fill-color: #AAA;\n",
              "      --disabled-bg-color: #DDD;\n",
              "  }\n",
              "\n",
              "  [theme=dark] .colab-df-quickchart {\n",
              "      --bg-color: #3B4455;\n",
              "      --fill-color: #D2E3FC;\n",
              "      --hover-bg-color: #434B5C;\n",
              "      --hover-fill-color: #FFFFFF;\n",
              "      --disabled-bg-color: #3B4455;\n",
              "      --disabled-fill-color: #666;\n",
              "  }\n",
              "\n",
              "  .colab-df-quickchart {\n",
              "    background-color: var(--bg-color);\n",
              "    border: none;\n",
              "    border-radius: 50%;\n",
              "    cursor: pointer;\n",
              "    display: none;\n",
              "    fill: var(--fill-color);\n",
              "    height: 32px;\n",
              "    padding: 0;\n",
              "    width: 32px;\n",
              "  }\n",
              "\n",
              "  .colab-df-quickchart:hover {\n",
              "    background-color: var(--hover-bg-color);\n",
              "    box-shadow: 0 1px 2px rgba(60, 64, 67, 0.3), 0 1px 3px 1px rgba(60, 64, 67, 0.15);\n",
              "    fill: var(--button-hover-fill-color);\n",
              "  }\n",
              "\n",
              "  .colab-df-quickchart-complete:disabled,\n",
              "  .colab-df-quickchart-complete:disabled:hover {\n",
              "    background-color: var(--disabled-bg-color);\n",
              "    fill: var(--disabled-fill-color);\n",
              "    box-shadow: none;\n",
              "  }\n",
              "\n",
              "  .colab-df-spinner {\n",
              "    border: 2px solid var(--fill-color);\n",
              "    border-color: transparent;\n",
              "    border-bottom-color: var(--fill-color);\n",
              "    animation:\n",
              "      spin 1s steps(1) infinite;\n",
              "  }\n",
              "\n",
              "  @keyframes spin {\n",
              "    0% {\n",
              "      border-color: transparent;\n",
              "      border-bottom-color: var(--fill-color);\n",
              "      border-left-color: var(--fill-color);\n",
              "    }\n",
              "    20% {\n",
              "      border-color: transparent;\n",
              "      border-left-color: var(--fill-color);\n",
              "      border-top-color: var(--fill-color);\n",
              "    }\n",
              "    30% {\n",
              "      border-color: transparent;\n",
              "      border-left-color: var(--fill-color);\n",
              "      border-top-color: var(--fill-color);\n",
              "      border-right-color: var(--fill-color);\n",
              "    }\n",
              "    40% {\n",
              "      border-color: transparent;\n",
              "      border-right-color: var(--fill-color);\n",
              "      border-top-color: var(--fill-color);\n",
              "    }\n",
              "    60% {\n",
              "      border-color: transparent;\n",
              "      border-right-color: var(--fill-color);\n",
              "    }\n",
              "    80% {\n",
              "      border-color: transparent;\n",
              "      border-right-color: var(--fill-color);\n",
              "      border-bottom-color: var(--fill-color);\n",
              "    }\n",
              "    90% {\n",
              "      border-color: transparent;\n",
              "      border-bottom-color: var(--fill-color);\n",
              "    }\n",
              "  }\n",
              "</style>\n",
              "\n",
              "  <script>\n",
              "    async function quickchart(key) {\n",
              "      const quickchartButtonEl =\n",
              "        document.querySelector('#' + key + ' button');\n",
              "      quickchartButtonEl.disabled = true;  // To prevent multiple clicks.\n",
              "      quickchartButtonEl.classList.add('colab-df-spinner');\n",
              "      try {\n",
              "        const charts = await google.colab.kernel.invokeFunction(\n",
              "            'suggestCharts', [key], {});\n",
              "      } catch (error) {\n",
              "        console.error('Error during call to suggestCharts:', error);\n",
              "      }\n",
              "      quickchartButtonEl.classList.remove('colab-df-spinner');\n",
              "      quickchartButtonEl.classList.add('colab-df-quickchart-complete');\n",
              "    }\n",
              "    (() => {\n",
              "      let quickchartButtonEl =\n",
              "        document.querySelector('#df-31d7aa50-d60c-4af3-a3b1-4c433af10c62 button');\n",
              "      quickchartButtonEl.style.display =\n",
              "        google.colab.kernel.accessAllowed ? 'block' : 'none';\n",
              "    })();\n",
              "  </script>\n",
              "</div>\n",
              "\n",
              "    </div>\n",
              "  </div>\n"
            ],
            "application/vnd.google.colaboratory.intrinsic+json": {
              "type": "dataframe",
              "summary": "{\n  \"name\": \"numerical_stats\",\n  \"rows\": 6,\n  \"fields\": [\n    {\n      \"column\": \"count\",\n      \"properties\": {\n        \"dtype\": \"number\",\n        \"std\": 2.3664319132398464,\n        \"min\": 993.0,\n        \"max\": 999.0,\n        \"num_unique_values\": 6,\n        \"samples\": [\n          998.0,\n          993.0,\n          999.0\n        ],\n        \"semantic_type\": \"\",\n        \"description\": \"\"\n      }\n    },\n    {\n      \"column\": \"mean\",\n      \"properties\": {\n        \"dtype\": \"number\",\n        \"std\": 576.4042483233644,\n        \"min\": 8.477432296890672,\n        \"max\": 1492.5488418932528,\n        \"num_unique_values\": 6,\n        \"samples\": [\n          39.003006012024045,\n          1492.5488418932528,\n          419.55855855855856\n        ],\n        \"semantic_type\": \"\",\n        \"description\": \"\"\n      }\n    },\n    {\n      \"column\": \"std\",\n      \"properties\": {\n        \"dtype\": \"number\",\n        \"std\": 187.4525124406143,\n        \"min\": 8.234315882871856,\n        \"max\": 489.26523238642795,\n        \"num_unique_values\": 6,\n        \"samples\": [\n          9.745456003703694,\n          489.26523238642795,\n          147.24405573136312\n        ],\n        \"semantic_type\": \"\",\n        \"description\": \"\"\n      }\n    },\n    {\n      \"column\": \"min\",\n      \"properties\": {\n        \"dtype\": \"number\",\n        \"std\": 119.05362937208872,\n        \"min\": 0.0,\n        \"max\": 300.0,\n        \"num_unique_values\": 5,\n        \"samples\": [\n          300.0,\n          2.0,\n          0.0\n        ],\n        \"semantic_type\": \"\",\n        \"description\": \"\"\n      }\n    },\n    {\n      \"column\": \"25%\",\n      \"properties\": {\n        \"dtype\": \"number\",\n        \"std\": 452.94344753695987,\n        \"min\": 2.0,\n        \"max\": 1170.0,\n        \"num_unique_values\": 6,\n        \"samples\": [\n          32.0,\n          1170.0,\n          309.0\n        ],\n        \"semantic_type\": \"\",\n        \"description\": \"\"\n      }\n    },\n    {\n      \"column\": \"50%\",\n      \"properties\": {\n        \"dtype\": \"number\",\n        \"std\": 576.0390322423184,\n        \"min\": 6.0,\n        \"max\": 1489.0,\n        \"num_unique_values\": 6,\n        \"samples\": [\n          39.0,\n          1489.0,\n          415.0\n        ],\n        \"semantic_type\": \"\",\n        \"description\": \"\"\n      }\n    },\n    {\n      \"column\": \"75%\",\n      \"properties\": {\n        \"dtype\": \"number\",\n        \"std\": 705.7334246489015,\n        \"min\": 12.0,\n        \"max\": 1827.0,\n        \"num_unique_values\": 6,\n        \"samples\": [\n          45.0,\n          1827.0,\n          521.5\n        ],\n        \"semantic_type\": \"\",\n        \"description\": \"\"\n      }\n    },\n    {\n      \"column\": \"max\",\n      \"properties\": {\n        \"dtype\": \"number\",\n        \"std\": 1170.1861390394265,\n        \"min\": 42.0,\n        \"max\": 3056.0,\n        \"num_unique_values\": 6,\n        \"samples\": [\n          72.0,\n          3056.0,\n          878.0\n        ],\n        \"semantic_type\": \"\",\n        \"description\": \"\"\n      }\n    }\n  ]\n}"
            }
          },
          "metadata": {},
          "execution_count": 51
        }
      ]
    },
    {
      "cell_type": "code",
      "source": [
        "# replacing \"NA\" with NaN\n",
        "dirty_data.replace(\"NA\", pd.NA, inplace=True)"
      ],
      "metadata": {
        "id": "0mURR7_hpkNx"
      },
      "execution_count": 52,
      "outputs": []
    },
    {
      "cell_type": "code",
      "source": [
        "# we identified which columns contain missing values and how many missing values are present in each column\n",
        "missing_values = dirty_data.isnull().sum()\n",
        "print(f\"Missing Values:\\n{missing_values}\")"
      ],
      "metadata": {
        "colab": {
          "base_uri": "https://localhost:8080/"
        },
        "id": "hi1o39eCp2qi",
        "outputId": "fedb4afe-27fb-460e-fce7-5eabdccdc975"
      },
      "execution_count": 53,
      "outputs": [
        {
          "output_type": "stream",
          "name": "stdout",
          "text": [
            "Missing Values:\n",
            "Gender                          0\n",
            "Customer Type                   8\n",
            "Age                             2\n",
            "Type of Travel                 13\n",
            "Class                           5\n",
            "Flight Distance                 7\n",
            "Departure Delay in Minutes      3\n",
            "Arrival Delay in Minutes        6\n",
            "Inflight Wifi Service           4\n",
            "Food and Drink                 12\n",
            "Seat Comfort                    9\n",
            "Inflight Entertainment         10\n",
            "Cleanliness                     5\n",
            "Satisfaction                    8\n",
            "Travel Insurance Purchased      3\n",
            "Total Travel Time (Minutes)     5\n",
            "Price of Ticket ($)             1\n",
            "dtype: int64\n"
          ]
        }
      ]
    },
    {
      "cell_type": "code",
      "source": [
        "# after identifying the columns with missing values, we defined them for further processing\n",
        "missing_columns=['Customer Type','Age','Type of Travel','Class', 'Flight Distance', 'Departure Delay in Minutes', 'Arrival Delay in Minutes','Inflight Wifi Service','Food and Drink','Seat Comfort','Inflight Entertainment','Cleanliness','Satisfaction', 'Total Travel Time (Minutes)','Travel Insurance Purchased', 'Price of Ticket ($)']\n",
        "# we wrote this line to prevent Pandas from automatically converting columns like \"Food and Drink,\" whose observations are numeric but should have a data type of object, into float by interpreting the numbers as numeric values on its own\n",
        "pd.set_option('future.no_silent_downcasting', True)\n",
        "\n",
        "for col in missing_columns:\n",
        "    # for numerical columns\n",
        "    if dirty_data[col].dtype in ['float64', 'int64']:\n",
        "        mean_value = round(dirty_data[col].mean())\n",
        "        dirty_data[col] = dirty_data[col].fillna(mean_value)\n",
        "\n",
        "    # for categorical columns\n",
        "    else:\n",
        "        mode_value = dirty_data[col].mode().iloc[0]\n",
        "        # ensure type remains object\n",
        "        dirty_data[col] = dirty_data[col].fillna(mode_value).astype('object')\n",
        "\n",
        "final_missing_values = dirty_data.isnull().sum()\n",
        "print(f\"Missing Values After Fixing:\\n{final_missing_values}\")\n"
      ],
      "metadata": {
        "colab": {
          "base_uri": "https://localhost:8080/"
        },
        "id": "x5B6-JiuqXjQ",
        "outputId": "fb528460-7cb5-4310-d32c-82b3a51ac55b"
      },
      "execution_count": 54,
      "outputs": [
        {
          "output_type": "stream",
          "name": "stdout",
          "text": [
            "Missing Values After Fixing:\n",
            "Gender                         0\n",
            "Customer Type                  0\n",
            "Age                            0\n",
            "Type of Travel                 0\n",
            "Class                          0\n",
            "Flight Distance                0\n",
            "Departure Delay in Minutes     0\n",
            "Arrival Delay in Minutes       0\n",
            "Inflight Wifi Service          0\n",
            "Food and Drink                 0\n",
            "Seat Comfort                   0\n",
            "Inflight Entertainment         0\n",
            "Cleanliness                    0\n",
            "Satisfaction                   0\n",
            "Travel Insurance Purchased     0\n",
            "Total Travel Time (Minutes)    0\n",
            "Price of Ticket ($)            0\n",
            "dtype: int64\n"
          ]
        }
      ]
    },
    {
      "cell_type": "code",
      "source": [
        "dirty_data.info()"
      ],
      "metadata": {
        "colab": {
          "base_uri": "https://localhost:8080/"
        },
        "id": "hckrxcqkBPsr",
        "outputId": "458dd7cd-2894-4173-a321-de84f1222406"
      },
      "execution_count": 55,
      "outputs": [
        {
          "output_type": "stream",
          "name": "stdout",
          "text": [
            "<class 'pandas.core.frame.DataFrame'>\n",
            "RangeIndex: 1000 entries, 0 to 999\n",
            "Data columns (total 17 columns):\n",
            " #   Column                       Non-Null Count  Dtype  \n",
            "---  ------                       --------------  -----  \n",
            " 0   Gender                       1000 non-null   object \n",
            " 1   Customer Type                1000 non-null   object \n",
            " 2   Age                          1000 non-null   float64\n",
            " 3   Type of Travel               1000 non-null   object \n",
            " 4   Class                        1000 non-null   object \n",
            " 5   Flight Distance              1000 non-null   float64\n",
            " 6   Departure Delay in Minutes   1000 non-null   float64\n",
            " 7   Arrival Delay in Minutes     1000 non-null   float64\n",
            " 8   Inflight Wifi Service        1000 non-null   object \n",
            " 9   Food and Drink               1000 non-null   object \n",
            " 10  Seat Comfort                 1000 non-null   object \n",
            " 11  Inflight Entertainment       1000 non-null   object \n",
            " 12  Cleanliness                  1000 non-null   object \n",
            " 13  Satisfaction                 1000 non-null   object \n",
            " 14  Travel Insurance Purchased   1000 non-null   object \n",
            " 15  Total Travel Time (Minutes)  1000 non-null   float64\n",
            " 16  Price of Ticket ($)          1000 non-null   float64\n",
            "dtypes: float64(6), object(11)\n",
            "memory usage: 132.9+ KB\n"
          ]
        }
      ]
    },
    {
      "cell_type": "code",
      "source": [
        "numerical_stats = dirty_data.describe()\n",
        "numerical_stats.transpose()\n"
      ],
      "metadata": {
        "colab": {
          "base_uri": "https://localhost:8080/",
          "height": 238
        },
        "id": "GRD5U88vBSze",
        "outputId": "16806f4d-36a4-4e58-c80a-194f2a2bb582"
      },
      "execution_count": 56,
      "outputs": [
        {
          "output_type": "execute_result",
          "data": {
            "text/plain": [
              "                              count      mean         std    min     25%  \\\n",
              "Age                          1000.0    39.003    9.735696   18.0    32.0   \n",
              "Flight Distance              1000.0  1492.552  487.548078  300.0  1171.0   \n",
              "Departure Delay in Minutes   1000.0     8.476    8.221984    0.0     2.0   \n",
              "Arrival Delay in Minutes     1000.0    13.074    9.912456    0.0     6.0   \n",
              "Total Travel Time (Minutes)  1000.0   192.565   76.163894   29.0   142.0   \n",
              "Price of Ticket ($)          1000.0   419.559  147.170342    2.0   309.5   \n",
              "\n",
              "                                50%      75%     max  \n",
              "Age                            39.0    45.00    72.0  \n",
              "Flight Distance              1491.0  1827.00  3056.0  \n",
              "Departure Delay in Minutes      6.0    12.00    42.0  \n",
              "Arrival Delay in Minutes       11.0    18.00    54.0  \n",
              "Total Travel Time (Minutes)   183.5   233.00   488.0  \n",
              "Price of Ticket ($)           415.0   521.25   878.0  "
            ],
            "text/html": [
              "\n",
              "  <div id=\"df-859908f3-2fa2-4261-ac14-4f86de2dfd4c\" class=\"colab-df-container\">\n",
              "    <div>\n",
              "<style scoped>\n",
              "    .dataframe tbody tr th:only-of-type {\n",
              "        vertical-align: middle;\n",
              "    }\n",
              "\n",
              "    .dataframe tbody tr th {\n",
              "        vertical-align: top;\n",
              "    }\n",
              "\n",
              "    .dataframe thead th {\n",
              "        text-align: right;\n",
              "    }\n",
              "</style>\n",
              "<table border=\"1\" class=\"dataframe\">\n",
              "  <thead>\n",
              "    <tr style=\"text-align: right;\">\n",
              "      <th></th>\n",
              "      <th>count</th>\n",
              "      <th>mean</th>\n",
              "      <th>std</th>\n",
              "      <th>min</th>\n",
              "      <th>25%</th>\n",
              "      <th>50%</th>\n",
              "      <th>75%</th>\n",
              "      <th>max</th>\n",
              "    </tr>\n",
              "  </thead>\n",
              "  <tbody>\n",
              "    <tr>\n",
              "      <th>Age</th>\n",
              "      <td>1000.0</td>\n",
              "      <td>39.003</td>\n",
              "      <td>9.735696</td>\n",
              "      <td>18.0</td>\n",
              "      <td>32.0</td>\n",
              "      <td>39.0</td>\n",
              "      <td>45.00</td>\n",
              "      <td>72.0</td>\n",
              "    </tr>\n",
              "    <tr>\n",
              "      <th>Flight Distance</th>\n",
              "      <td>1000.0</td>\n",
              "      <td>1492.552</td>\n",
              "      <td>487.548078</td>\n",
              "      <td>300.0</td>\n",
              "      <td>1171.0</td>\n",
              "      <td>1491.0</td>\n",
              "      <td>1827.00</td>\n",
              "      <td>3056.0</td>\n",
              "    </tr>\n",
              "    <tr>\n",
              "      <th>Departure Delay in Minutes</th>\n",
              "      <td>1000.0</td>\n",
              "      <td>8.476</td>\n",
              "      <td>8.221984</td>\n",
              "      <td>0.0</td>\n",
              "      <td>2.0</td>\n",
              "      <td>6.0</td>\n",
              "      <td>12.00</td>\n",
              "      <td>42.0</td>\n",
              "    </tr>\n",
              "    <tr>\n",
              "      <th>Arrival Delay in Minutes</th>\n",
              "      <td>1000.0</td>\n",
              "      <td>13.074</td>\n",
              "      <td>9.912456</td>\n",
              "      <td>0.0</td>\n",
              "      <td>6.0</td>\n",
              "      <td>11.0</td>\n",
              "      <td>18.00</td>\n",
              "      <td>54.0</td>\n",
              "    </tr>\n",
              "    <tr>\n",
              "      <th>Total Travel Time (Minutes)</th>\n",
              "      <td>1000.0</td>\n",
              "      <td>192.565</td>\n",
              "      <td>76.163894</td>\n",
              "      <td>29.0</td>\n",
              "      <td>142.0</td>\n",
              "      <td>183.5</td>\n",
              "      <td>233.00</td>\n",
              "      <td>488.0</td>\n",
              "    </tr>\n",
              "    <tr>\n",
              "      <th>Price of Ticket ($)</th>\n",
              "      <td>1000.0</td>\n",
              "      <td>419.559</td>\n",
              "      <td>147.170342</td>\n",
              "      <td>2.0</td>\n",
              "      <td>309.5</td>\n",
              "      <td>415.0</td>\n",
              "      <td>521.25</td>\n",
              "      <td>878.0</td>\n",
              "    </tr>\n",
              "  </tbody>\n",
              "</table>\n",
              "</div>\n",
              "    <div class=\"colab-df-buttons\">\n",
              "\n",
              "  <div class=\"colab-df-container\">\n",
              "    <button class=\"colab-df-convert\" onclick=\"convertToInteractive('df-859908f3-2fa2-4261-ac14-4f86de2dfd4c')\"\n",
              "            title=\"Convert this dataframe to an interactive table.\"\n",
              "            style=\"display:none;\">\n",
              "\n",
              "  <svg xmlns=\"http://www.w3.org/2000/svg\" height=\"24px\" viewBox=\"0 -960 960 960\">\n",
              "    <path d=\"M120-120v-720h720v720H120Zm60-500h600v-160H180v160Zm220 220h160v-160H400v160Zm0 220h160v-160H400v160ZM180-400h160v-160H180v160Zm440 0h160v-160H620v160ZM180-180h160v-160H180v160Zm440 0h160v-160H620v160Z\"/>\n",
              "  </svg>\n",
              "    </button>\n",
              "\n",
              "  <style>\n",
              "    .colab-df-container {\n",
              "      display:flex;\n",
              "      gap: 12px;\n",
              "    }\n",
              "\n",
              "    .colab-df-convert {\n",
              "      background-color: #E8F0FE;\n",
              "      border: none;\n",
              "      border-radius: 50%;\n",
              "      cursor: pointer;\n",
              "      display: none;\n",
              "      fill: #1967D2;\n",
              "      height: 32px;\n",
              "      padding: 0 0 0 0;\n",
              "      width: 32px;\n",
              "    }\n",
              "\n",
              "    .colab-df-convert:hover {\n",
              "      background-color: #E2EBFA;\n",
              "      box-shadow: 0px 1px 2px rgba(60, 64, 67, 0.3), 0px 1px 3px 1px rgba(60, 64, 67, 0.15);\n",
              "      fill: #174EA6;\n",
              "    }\n",
              "\n",
              "    .colab-df-buttons div {\n",
              "      margin-bottom: 4px;\n",
              "    }\n",
              "\n",
              "    [theme=dark] .colab-df-convert {\n",
              "      background-color: #3B4455;\n",
              "      fill: #D2E3FC;\n",
              "    }\n",
              "\n",
              "    [theme=dark] .colab-df-convert:hover {\n",
              "      background-color: #434B5C;\n",
              "      box-shadow: 0px 1px 3px 1px rgba(0, 0, 0, 0.15);\n",
              "      filter: drop-shadow(0px 1px 2px rgba(0, 0, 0, 0.3));\n",
              "      fill: #FFFFFF;\n",
              "    }\n",
              "  </style>\n",
              "\n",
              "    <script>\n",
              "      const buttonEl =\n",
              "        document.querySelector('#df-859908f3-2fa2-4261-ac14-4f86de2dfd4c button.colab-df-convert');\n",
              "      buttonEl.style.display =\n",
              "        google.colab.kernel.accessAllowed ? 'block' : 'none';\n",
              "\n",
              "      async function convertToInteractive(key) {\n",
              "        const element = document.querySelector('#df-859908f3-2fa2-4261-ac14-4f86de2dfd4c');\n",
              "        const dataTable =\n",
              "          await google.colab.kernel.invokeFunction('convertToInteractive',\n",
              "                                                    [key], {});\n",
              "        if (!dataTable) return;\n",
              "\n",
              "        const docLinkHtml = 'Like what you see? Visit the ' +\n",
              "          '<a target=\"_blank\" href=https://colab.research.google.com/notebooks/data_table.ipynb>data table notebook</a>'\n",
              "          + ' to learn more about interactive tables.';\n",
              "        element.innerHTML = '';\n",
              "        dataTable['output_type'] = 'display_data';\n",
              "        await google.colab.output.renderOutput(dataTable, element);\n",
              "        const docLink = document.createElement('div');\n",
              "        docLink.innerHTML = docLinkHtml;\n",
              "        element.appendChild(docLink);\n",
              "      }\n",
              "    </script>\n",
              "  </div>\n",
              "\n",
              "\n",
              "<div id=\"df-0dd3cbaf-d06e-4fc5-b246-6c35eddb4747\">\n",
              "  <button class=\"colab-df-quickchart\" onclick=\"quickchart('df-0dd3cbaf-d06e-4fc5-b246-6c35eddb4747')\"\n",
              "            title=\"Suggest charts\"\n",
              "            style=\"display:none;\">\n",
              "\n",
              "<svg xmlns=\"http://www.w3.org/2000/svg\" height=\"24px\"viewBox=\"0 0 24 24\"\n",
              "     width=\"24px\">\n",
              "    <g>\n",
              "        <path d=\"M19 3H5c-1.1 0-2 .9-2 2v14c0 1.1.9 2 2 2h14c1.1 0 2-.9 2-2V5c0-1.1-.9-2-2-2zM9 17H7v-7h2v7zm4 0h-2V7h2v10zm4 0h-2v-4h2v4z\"/>\n",
              "    </g>\n",
              "</svg>\n",
              "  </button>\n",
              "\n",
              "<style>\n",
              "  .colab-df-quickchart {\n",
              "      --bg-color: #E8F0FE;\n",
              "      --fill-color: #1967D2;\n",
              "      --hover-bg-color: #E2EBFA;\n",
              "      --hover-fill-color: #174EA6;\n",
              "      --disabled-fill-color: #AAA;\n",
              "      --disabled-bg-color: #DDD;\n",
              "  }\n",
              "\n",
              "  [theme=dark] .colab-df-quickchart {\n",
              "      --bg-color: #3B4455;\n",
              "      --fill-color: #D2E3FC;\n",
              "      --hover-bg-color: #434B5C;\n",
              "      --hover-fill-color: #FFFFFF;\n",
              "      --disabled-bg-color: #3B4455;\n",
              "      --disabled-fill-color: #666;\n",
              "  }\n",
              "\n",
              "  .colab-df-quickchart {\n",
              "    background-color: var(--bg-color);\n",
              "    border: none;\n",
              "    border-radius: 50%;\n",
              "    cursor: pointer;\n",
              "    display: none;\n",
              "    fill: var(--fill-color);\n",
              "    height: 32px;\n",
              "    padding: 0;\n",
              "    width: 32px;\n",
              "  }\n",
              "\n",
              "  .colab-df-quickchart:hover {\n",
              "    background-color: var(--hover-bg-color);\n",
              "    box-shadow: 0 1px 2px rgba(60, 64, 67, 0.3), 0 1px 3px 1px rgba(60, 64, 67, 0.15);\n",
              "    fill: var(--button-hover-fill-color);\n",
              "  }\n",
              "\n",
              "  .colab-df-quickchart-complete:disabled,\n",
              "  .colab-df-quickchart-complete:disabled:hover {\n",
              "    background-color: var(--disabled-bg-color);\n",
              "    fill: var(--disabled-fill-color);\n",
              "    box-shadow: none;\n",
              "  }\n",
              "\n",
              "  .colab-df-spinner {\n",
              "    border: 2px solid var(--fill-color);\n",
              "    border-color: transparent;\n",
              "    border-bottom-color: var(--fill-color);\n",
              "    animation:\n",
              "      spin 1s steps(1) infinite;\n",
              "  }\n",
              "\n",
              "  @keyframes spin {\n",
              "    0% {\n",
              "      border-color: transparent;\n",
              "      border-bottom-color: var(--fill-color);\n",
              "      border-left-color: var(--fill-color);\n",
              "    }\n",
              "    20% {\n",
              "      border-color: transparent;\n",
              "      border-left-color: var(--fill-color);\n",
              "      border-top-color: var(--fill-color);\n",
              "    }\n",
              "    30% {\n",
              "      border-color: transparent;\n",
              "      border-left-color: var(--fill-color);\n",
              "      border-top-color: var(--fill-color);\n",
              "      border-right-color: var(--fill-color);\n",
              "    }\n",
              "    40% {\n",
              "      border-color: transparent;\n",
              "      border-right-color: var(--fill-color);\n",
              "      border-top-color: var(--fill-color);\n",
              "    }\n",
              "    60% {\n",
              "      border-color: transparent;\n",
              "      border-right-color: var(--fill-color);\n",
              "    }\n",
              "    80% {\n",
              "      border-color: transparent;\n",
              "      border-right-color: var(--fill-color);\n",
              "      border-bottom-color: var(--fill-color);\n",
              "    }\n",
              "    90% {\n",
              "      border-color: transparent;\n",
              "      border-bottom-color: var(--fill-color);\n",
              "    }\n",
              "  }\n",
              "</style>\n",
              "\n",
              "  <script>\n",
              "    async function quickchart(key) {\n",
              "      const quickchartButtonEl =\n",
              "        document.querySelector('#' + key + ' button');\n",
              "      quickchartButtonEl.disabled = true;  // To prevent multiple clicks.\n",
              "      quickchartButtonEl.classList.add('colab-df-spinner');\n",
              "      try {\n",
              "        const charts = await google.colab.kernel.invokeFunction(\n",
              "            'suggestCharts', [key], {});\n",
              "      } catch (error) {\n",
              "        console.error('Error during call to suggestCharts:', error);\n",
              "      }\n",
              "      quickchartButtonEl.classList.remove('colab-df-spinner');\n",
              "      quickchartButtonEl.classList.add('colab-df-quickchart-complete');\n",
              "    }\n",
              "    (() => {\n",
              "      let quickchartButtonEl =\n",
              "        document.querySelector('#df-0dd3cbaf-d06e-4fc5-b246-6c35eddb4747 button');\n",
              "      quickchartButtonEl.style.display =\n",
              "        google.colab.kernel.accessAllowed ? 'block' : 'none';\n",
              "    })();\n",
              "  </script>\n",
              "</div>\n",
              "\n",
              "    </div>\n",
              "  </div>\n"
            ],
            "application/vnd.google.colaboratory.intrinsic+json": {
              "type": "dataframe",
              "summary": "{\n  \"name\": \"numerical_stats\",\n  \"rows\": 6,\n  \"fields\": [\n    {\n      \"column\": \"count\",\n      \"properties\": {\n        \"dtype\": \"number\",\n        \"std\": 0.0,\n        \"min\": 1000.0,\n        \"max\": 1000.0,\n        \"num_unique_values\": 1,\n        \"samples\": [\n          1000.0\n        ],\n        \"semantic_type\": \"\",\n        \"description\": \"\"\n      }\n    },\n    {\n      \"column\": \"mean\",\n      \"properties\": {\n        \"dtype\": \"number\",\n        \"std\": 576.4055994518964,\n        \"min\": 8.476,\n        \"max\": 1492.552,\n        \"num_unique_values\": 6,\n        \"samples\": [\n          39.003\n        ],\n        \"semantic_type\": \"\",\n        \"description\": \"\"\n      }\n    },\n    {\n      \"column\": \"std\",\n      \"properties\": {\n        \"dtype\": \"number\",\n        \"std\": 186.7964781639918,\n        \"min\": 8.221984251081068,\n        \"max\": 487.54807806453715,\n        \"num_unique_values\": 6,\n        \"samples\": [\n          9.735695906034392\n        ],\n        \"semantic_type\": \"\",\n        \"description\": \"\"\n      }\n    },\n    {\n      \"column\": \"min\",\n      \"properties\": {\n        \"dtype\": \"number\",\n        \"std\": 119.05362937208872,\n        \"min\": 0.0,\n        \"max\": 300.0,\n        \"num_unique_values\": 5,\n        \"samples\": [\n          300.0\n        ],\n        \"semantic_type\": \"\",\n        \"description\": \"\"\n      }\n    },\n    {\n      \"column\": \"25%\",\n      \"properties\": {\n        \"dtype\": \"number\",\n        \"std\": 453.34494776788534,\n        \"min\": 2.0,\n        \"max\": 1171.0,\n        \"num_unique_values\": 6,\n        \"samples\": [\n          32.0\n        ],\n        \"semantic_type\": \"\",\n        \"description\": \"\"\n      }\n    },\n    {\n      \"column\": \"50%\",\n      \"properties\": {\n        \"dtype\": \"number\",\n        \"std\": 576.7948003117458,\n        \"min\": 6.0,\n        \"max\": 1491.0,\n        \"num_unique_values\": 6,\n        \"samples\": [\n          39.0\n        ],\n        \"semantic_type\": \"\",\n        \"description\": \"\"\n      }\n    },\n    {\n      \"column\": \"75%\",\n      \"properties\": {\n        \"dtype\": \"number\",\n        \"std\": 705.7575436484308,\n        \"min\": 12.0,\n        \"max\": 1827.0,\n        \"num_unique_values\": 6,\n        \"samples\": [\n          45.0\n        ],\n        \"semantic_type\": \"\",\n        \"description\": \"\"\n      }\n    },\n    {\n      \"column\": \"max\",\n      \"properties\": {\n        \"dtype\": \"number\",\n        \"std\": 1170.1861390394265,\n        \"min\": 42.0,\n        \"max\": 3056.0,\n        \"num_unique_values\": 6,\n        \"samples\": [\n          72.0\n        ],\n        \"semantic_type\": \"\",\n        \"description\": \"\"\n      }\n    }\n  ]\n}"
            }
          },
          "metadata": {},
          "execution_count": 56
        }
      ]
    },
    {
      "cell_type": "code",
      "source": [
        "# we exported the clean dataset for individual visualizations\n",
        "dirty_data.to_csv(\"cleandata.csv\", index=False, sep=\";\")"
      ],
      "metadata": {
        "id": "ltOyABVyCBF5"
      },
      "execution_count": 57,
      "outputs": []
    },
    {
      "cell_type": "markdown",
      "source": [
        "**At the end of all these steps, our data cleaning process was completed, and we moved on to graphical visualizations.**"
      ],
      "metadata": {
        "id": "syJGDVhEatAI"
      }
    },
    {
      "cell_type": "markdown",
      "source": [
        "# *Visualization by Hasan Akkaya*"
      ],
      "metadata": {
        "id": "dHRfLw6veuok"
      }
    },
    {
      "cell_type": "code",
      "source": [
        "import matplotlib.pyplot as plt\n",
        "import numpy as np\n",
        "\n",
        "# set the order of travel classes\n",
        "custom_class_order = [\"Eco\", \"Eco Plus\", \"Business\"]\n",
        "dirty_data['Class'] = pd.Categorical(dirty_data['Class'], categories=custom_class_order, ordered=True)\n",
        "dirty_data = dirty_data.sort_values(by=['Class', 'Gender'])\n",
        "\n",
        "# recreate the pivot table with observed=True to block warnings\n",
        "pivot_data = dirty_data.groupby(['Class', 'Gender', 'Inflight Entertainment'], observed=True).size().reset_index(name='Count')\n",
        "pivot_data = pivot_data.pivot_table(index=['Class', 'Gender'], columns='Inflight Entertainment', values='Count', aggfunc='sum', fill_value=0, observed=True)\n",
        "\n",
        "# create a new figure\n",
        "fig, ax = plt.subplots(figsize=(14, 8))\n",
        "\n",
        "# parameters\n",
        "width = 0.35  # width of each gender group\n",
        "x = np.arange(len(custom_class_order))  # x-axis positions for each class\n",
        "\n",
        "# get the unique genders and choose our group color palette\n",
        "genders = pivot_data.index.levels[1]\n",
        "color_palette = plt.cm.RdYlGn(np.linspace(0, 1, len(pivot_data.columns)))\n",
        "\n",
        "# draw bars\n",
        "for i, gender in enumerate(genders):\n",
        "    for j, data_class in enumerate(custom_class_order):\n",
        "        if (data_class, gender) in pivot_data.index:\n",
        "            bar_data = pivot_data.loc[(data_class, gender), :]\n",
        "            bottom = 0  # starting position for stacked bars\n",
        "\n",
        "            # for each count label\n",
        "            for k, value in enumerate(bar_data):\n",
        "                if value > 0:\n",
        "                    ax.bar(x[j] + i * width, value, width, bottom=bottom, color=color_palette[k])\n",
        "                    y_pos = bottom + value / 2\n",
        "                    text_color = 'white' if color_palette[k][0] + color_palette[k][1] + color_palette[k][2] < 1.5 else 'black' #automatic color for labels\n",
        "                    ax.text(x[j] + i * width, y_pos, f\"{int(value)}\", ha='center', va='center', fontsize=9, color=text_color)\n",
        "                    bottom += value\n",
        "\n",
        "            ax.text(x[j] + i * width, bottom + 2, f\"{int(bottom)}\", ha='center', va='bottom', fontsize=10, color='black')\n",
        "\n",
        "# add labels and adjust formatting\n",
        "ax.set_title(\"Inflight Entertainment Ratings by Travel Class and Gender\", fontsize=12)\n",
        "\n",
        "# remove y-axis ticks and labels\n",
        "ax.set_yticks([])\n",
        "ax.set_yticklabels([])\n",
        "\n",
        "# create and position x-tick labels\n",
        "new_xticks = []\n",
        "new_xticks_positions = []\n",
        "\n",
        "for j, data_class in enumerate(custom_class_order):\n",
        "    for i, gender in enumerate(genders):\n",
        "        new_xticks.append(f\"{gender}\")\n",
        "        new_xticks_positions.append(x[j] + i * width)\n",
        "    # add class labels at the middle of their respective groups\n",
        "    ax.text(x[j] + width / 2, -15, f\"{data_class}\", ha='center', va='center', fontsize=10, color='black', transform=ax.transData)\n",
        "\n",
        "ax.set_xticks(new_xticks_positions)\n",
        "ax.set_xticklabels(new_xticks, rotation=0, fontsize=10)\n",
        "\n",
        "# move the \"Travel Class-Gender\" label more down\n",
        "ax.set_xlabel(\"Travel Class-Gender\", fontsize=12, labelpad=20)\n",
        "\n",
        "# customize legend\n",
        "ax.legend([f\"{i+1.0}\" for i in range(len(pivot_data.columns))], title=\"Inflight Entertainment Ratings\", fontsize=10, title_fontsize=12)\n",
        "\n",
        "plt.tight_layout()\n",
        "plt.show()\n"
      ],
      "metadata": {
        "colab": {
          "base_uri": "https://localhost:8080/",
          "height": 807
        },
        "id": "tepEQDK7dwQB",
        "outputId": "e52abad7-6ac9-412f-c131-77c49cde4972"
      },
      "execution_count": 58,
      "outputs": [
        {
          "output_type": "display_data",
          "data": {
            "text/plain": [
              "<Figure size 1400x800 with 1 Axes>"
            ],
            "image/png": "[encoded data removed]"
          },
          "metadata": {}
        }
      ]
    },
    {
      "cell_type": "markdown",
      "source": [
        "# *Visualization by Aslı Ceren Aksu*"
      ],
      "metadata": {
        "id": "o-FmKq7IqNdc"
      }
    },
    {
      "cell_type": "code",
      "source": [
        "import seaborn as sns\n",
        "\n",
        "plt.figure(figsize=(10, 8)) #arranging the figure size\n",
        "sns.boxenplot( #creating a boxen plot\n",
        "    data=dirty_data, #specifying which data that i am using\n",
        "    x='Gender',# Gender on th x-axis\n",
        "    y='Flight Distance', # Flight Distance on the y-axis\n",
        "    hue='Type of Travel',# type of travel will be represented as 2 different colors\n",
        "    palette='RdYlGn' # using our group RdYlGn palette for color palette\n",
        ") #i created my boxen plot\n",
        "plt.title('Travel Type and Gender by Flight Distance') #adding a title to my plot\n",
        "plt.xlabel('Gender') #adding a label to the x-axis\n",
        "plt.ylabel('Flight Distance (in Miles)')#adding a label to the y-axis\n",
        "plt.legend(title= 'Type of Travel', bbox_to_anchor=(1.00, 1), loc='upper right', borderaxespad=0)#creating a legend,giving it a name\n",
        "#and locate my legend on the upper right in a way that it does not obstacle us to see the graph\n",
        "plt.tight_layout() #arranging the right spacing betweeen elements in order to avoid overlapping\n",
        "plt.show() #to see graph"
      ],
      "metadata": {
        "colab": {
          "base_uri": "https://localhost:8080/",
          "height": 807
        },
        "id": "t2AaSXeIqMDp",
        "outputId": "668fea42-5f27-401c-df48-ff893c1aedea"
      },
      "execution_count": 59,
      "outputs": [
        {
          "output_type": "display_data",
          "data": {
            "text/plain": [
              "<Figure size 1000x800 with 1 Axes>"
            ],
            "image/png": "[encoded data removed]"
          },
          "metadata": {}
        }
      ]
    },
    {
      "cell_type": "markdown",
      "source": [
        "# *Visualization by Uğur İlbey Bebek*"
      ],
      "metadata": {
        "id": "rYRZqfmVqUEw"
      }
    },
    {
      "cell_type": "code",
      "source": [
        "import pandas as pd\n",
        "import matplotlib.pyplot as plt\n",
        "import numpy as np\n",
        "\n",
        "data = dirty_data\n",
        "\n",
        "male_data = data[data['Gender'] == 'Male']\n",
        "female_data = data[data['Gender'] == 'Female']\n",
        "\n",
        "# Scatter Plot for Males\n",
        "plt.figure(figsize=(12, 8))\n",
        "plt.scatter(\n",
        "    male_data['Age'],\n",
        "    male_data['Price of Ticket ($)'],\n",
        "    alpha=0.6,\n",
        "    color='green',\n",
        "    label='Male'\n",
        ")\n",
        "plt.title(\"Scatter Plot for Male: Age vs. Price of Ticket\")\n",
        "plt.xlabel(\"Age\")\n",
        "plt.ylabel(\"Price of Ticket ($)\")\n",
        "\n",
        "# Adjusting Y-axis intervals at 100 units and make it begin from 0\n",
        "plt.ylim(0, male_data['Price of Ticket ($)'].max() + 100)\n",
        "plt.yticks(np.arange(0, male_data['Price of Ticket ($)'].max() + 100, 100))\n",
        "plt.legend()\n",
        "plt.show()\n",
        "\n",
        "# Scatter Plot for  Females\n",
        "plt.figure(figsize=(12, 8))\n",
        "plt.scatter(\n",
        "    female_data['Age'],\n",
        "    female_data['Price of Ticket ($)'],\n",
        "    alpha=0.6,\n",
        "    color='red',\n",
        "    label='Female'\n",
        ")\n",
        "plt.title(\"Scatter Plot for Female: Age vs. Price of Ticket\")\n",
        "plt.xlabel(\"Age\")\n",
        "plt.ylabel(\"Price of Ticket ($)\")\n",
        "\n",
        "# Adjusting Y-axis intervals at 100 units and make it begin from 0\n",
        "plt.ylim(0, female_data['Price of Ticket ($)'].max() + 100)\n",
        "plt.yticks(np.arange(0, female_data['Price of Ticket ($)'].max() + 100, 100))\n",
        "plt.legend()\n",
        "plt.show()"
      ],
      "metadata": {
        "colab": {
          "base_uri": "https://localhost:8080/",
          "height": 1000
        },
        "id": "V1J0S37ZqYm5",
        "outputId": "cb3dd923-407c-4262-af87-d625e08e76e3"
      },
      "execution_count": 60,
      "outputs": [
        {
          "output_type": "display_data",
          "data": {
            "text/plain": [
              "<Figure size 1200x800 with 1 Axes>"
            ],
            "image/png": "[encoded data removed]"
          },
          "metadata": {}
        },
        {
          "output_type": "display_data",
          "data": {
            "text/plain": [
              "<Figure size 1200x800 with 1 Axes>"
            ],
            "image/png": "[encoded data removed]"
          },
          "metadata": {}
        }
      ]
    },
    {
      "cell_type": "markdown",
      "source": [
        "# *Visualization by Deniz Duru Eratak*"
      ],
      "metadata": {
        "id": "sCWXEhTMqffZ"
      }
    },
    {
      "cell_type": "code",
      "source": [
        "import seaborn as sns\n",
        "import matplotlib.pyplot as plt\n",
        "\n",
        "# setting the order of the hue levels for the Satisfaction values\n",
        "satisfaction_order = ['Satisfied', 'Neutral', 'Dissatisfied']\n",
        "\n",
        "# setting the size\n",
        "plt.figure(figsize=(14, 8))\n",
        "\n",
        "# creating a box plot with the ue order\n",
        "boxplot = sns.boxplot(\n",
        "    data=data,\n",
        "    x='Class',\n",
        "    y='Price of Ticket ($)',\n",
        "    hue='Satisfaction',\n",
        "    hue_order=satisfaction_order,\n",
        "    palette='RdYlGn', #setting the palette that our group chose\n",
        "    width=0.6\n",
        ")\n",
        "\n",
        "# finding the median values on the box plot\n",
        "for i, artist in enumerate(boxplot.artists):\n",
        "    # getting the center of each box\n",
        "    x_pos = artist.get_x() + artist.get_width() / 2\n",
        "    # determining median values from the data\n",
        "    satisfaction = satisfaction_order[i % 3]  # matching hue order\n",
        "    travel_class = ['Eco', 'Eco Plus', 'Business'][i // 3]  # matching class order\n",
        "    median_val = data[(data['Class'] == travel_class) & (data['Satisfaction'] == satisfaction)]['Price of Ticket ($)'].median()\n",
        "\n",
        "# writing labels and a title\n",
        "plt.title('Price of Ticket by Class and Satisfaction (Satisfied, Neutral, Dissatisfied)', fontsize=16, pad=20)\n",
        "plt.xlabel('Class', fontsize=14)\n",
        "plt.ylabel('Price of Ticket ($)', fontsize=14)\n",
        "\n",
        "# positioning legend and ordering\n",
        "plt.legend(title=\"Satisfaction\", bbox_to_anchor=(1.05, 1), loc='upper left')\n",
        "\n",
        "# changing tick parameters for the graph to be read more easily\n",
        "plt.xticks(fontsize=12)\n",
        "plt.yticks(fontsize=12)\n",
        "\n",
        "# applying a tight layout in order to have a clearer graph\n",
        "plt.tight_layout()\n",
        "\n",
        "# showing the plot\n",
        "plt.show()"
      ],
      "metadata": {
        "colab": {
          "base_uri": "https://localhost:8080/",
          "height": 806
        },
        "id": "mHhI0v9eDEsm",
        "outputId": "51cd60bf-7e3a-4c78-b761-8b752567b12b"
      },
      "execution_count": 61,
      "outputs": [
        {
          "output_type": "display_data",
          "data": {
            "text/plain": [
              "<Figure size 1400x800 with 1 Axes>"
            ],
            "image/png": "[encoded data removed]"
          },
          "metadata": {}
        }
      ]
    },
    {
      "cell_type": "markdown",
      "source": [
        "# *Visualization by Ahmet Genç*"
      ],
      "metadata": {
        "id": "fVez9mXCcSwN"
      }
    },
    {
      "cell_type": "code",
      "source": [
        "# creating a Violin Plot: Flight Distance by Gender and Travel Insurance Purchased\n",
        "import seaborn as sns\n",
        "import matplotlib.pyplot as plt\n",
        "\n",
        "# setting up the plot size\n",
        "plt.figure(figsize=(12, 6))\n",
        "\n",
        "# creating the violin plot with Gender on the x-axis, Flight Distance on the y-axis, and Travel Insurance Purchased as hue\n",
        "sns.violinplot(\n",
        "    data=dirty_data,  # using the final data for the plot\n",
        "    x='Gender',  # the gender column to categorize the data\n",
        "    y='Flight Distance',  # the column for the y-axis (flight distance)\n",
        "    hue='Travel Insurance Purchased',  # the hue to split the data by (whether travel insurance was purchased)\n",
        "    split=True,  # spliting the violins to show differences between the two travel insurance categories\n",
        "    palette='RdYlGn'  # choosing our group color palette\n",
        ")\n",
        "\n",
        "# setting the title, labels, and grid of the plot\n",
        "plt.title('Violin Plot: Flight Distance by Gender and Travel Insurance Purchased')\n",
        "plt.xlabel('Gender')  # labeling for the x-axis\n",
        "plt.ylabel('Flight Distance')  # labeling for the y-axis\n",
        "plt.grid(True, linestyle='--', alpha=0.6)  # grid lines for better readability\n",
        "plt.gca().set_facecolor('white')  # setting the background color to white\n",
        "\n",
        "# showing the plot\n",
        "plt.show()"
      ],
      "metadata": {
        "colab": {
          "base_uri": "https://localhost:8080/",
          "height": 564
        },
        "id": "5EXA281dHbKZ",
        "outputId": "4d185e84-aef8-4c07-d750-de5e719849f1"
      },
      "execution_count": 62,
      "outputs": [
        {
          "output_type": "display_data",
          "data": {
            "text/plain": [
              "<Figure size 1200x600 with 1 Axes>"
            ],
            "image/png": "[encoded data removed]"
          },
          "metadata": {}
        }
      ]
    },
    {
      "cell_type": "markdown",
      "source": [
        "# *Visualization by Ayşegül Görgel*"
      ],
      "metadata": {
        "id": "KVXqMDgrqlG9"
      }
    },
    {
      "cell_type": "code",
      "source": [
        "import pandas as pd\n",
        "import matplotlib.pyplot as plt\n",
        "import matplotlib.cm as cm\n",
        "\n",
        "data = dirty_data\n",
        "\n",
        "# updating the age group classification to include 52+ as 'Old' and <=30 as 'Young'\n",
        "data['Age Group'] = data['Age'].apply(lambda x: 'Young' if x <= 30 else ('Old' if x >= 52 else None))\n",
        "\n",
        "# filtering out rows that do not fall into the new \"Young\" or \"Old\" groups\n",
        "filtered_data = data[data['Age Group'].notnull()]\n",
        "\n",
        "# recalculating the counts and averages based on the new classification\n",
        "updated_grouped = filtered_data.groupby(['Age Group', 'Type of Travel']).agg(\n",
        "    count=('Type of Travel', 'count'),\n",
        "    avg_price=('Price of Ticket ($)', 'mean')\n",
        ").reset_index()\n",
        "\n",
        "# pivoting the data for separate columns for Business and Personal Travel\n",
        "updated_pivoted = updated_grouped.pivot(index='Age Group', columns='Type of Travel', values=['count', 'avg_price']).reset_index()\n",
        "updated_pivoted.columns = ['Age Group', 'Business Count', 'Personal Count', 'Business Avg Price', 'Personal Avg Price']\n",
        "\n",
        "# plotting the updated graph\n",
        "fig, ax = plt.subplots(figsize=(12, 6))\n",
        "\n",
        "x = ['Old - Business', 'Old - Personal', 'Young - Business', 'Young - Personal']\n",
        "updated_counts = [\n",
        "    updated_pivoted.loc[0, 'Business Count'], updated_pivoted.loc[0, 'Personal Count'],\n",
        "    updated_pivoted.loc[1, 'Business Count'], updated_pivoted.loc[1, 'Personal Count']\n",
        "]\n",
        "updated_avg_prices = [\n",
        "    updated_pivoted.loc[0, 'Business Avg Price'], updated_pivoted.loc[0, 'Personal Avg Price'],\n",
        "    updated_pivoted.loc[1, 'Business Avg Price'], updated_pivoted.loc[1, 'Personal Avg Price']\n",
        "]\n",
        "\n",
        "# bar chart for counts with our group color palette\n",
        "bars = ax.bar(\n",
        "    x,\n",
        "    updated_counts,\n",
        "    color=cm.RdYlGn((updated_avg_prices - min(updated_avg_prices)) / (max(updated_avg_prices) - min(updated_avg_prices)))\n",
        ")\n",
        "\n",
        "# adding annotations for counts only\n",
        "for bar, count in zip(bars, updated_counts):\n",
        "    ax.text(bar.get_x() + bar.get_width() / 2, bar.get_height() + 2, f\"{int(count)}\", ha='center', va='bottom', fontsize=10)\n",
        "\n",
        "# adding color bar for average price scale\n",
        "sm = cm.ScalarMappable(cmap=\"RdYlGn\", norm=plt.Normalize(vmin=min(updated_avg_prices), vmax=max(updated_avg_prices)))\n",
        "sm.set_array([])\n",
        "cbar = plt.colorbar(sm, ax=ax)\n",
        "cbar.set_label('Average Price of Ticket ($)')\n",
        "\n",
        "# setting titles and labels\n",
        "ax.set_title('Travel Type Distribution by Age Group (0-30, 52+) with Average Ticket Prices')\n",
        "ax.set_ylabel('Count of People')\n",
        "ax.set_xlabel('Age Group and Type of Travel')\n",
        "\n",
        "plt.tight_layout()\n",
        "plt.show()"
      ],
      "metadata": {
        "colab": {
          "base_uri": "https://localhost:8080/",
          "height": 607
        },
        "id": "zCvcMBzeqwN1",
        "outputId": "738b9e36-5437-4ab3-fb1d-16372aec4fc8"
      },
      "execution_count": 63,
      "outputs": [
        {
          "output_type": "display_data",
          "data": {
            "text/plain": [
              "<Figure size 1200x600 with 2 Axes>"
            ],
            "image/png": "[encoded data removed]"
          },
          "metadata": {}
        }
      ]
    },
    {
      "cell_type": "markdown",
      "source": [
        "# *Visualization by Begüm Ece Kaya*"
      ],
      "metadata": {
        "id": "eEmxF8ajqwxQ"
      }
    },
    {
      "cell_type": "code",
      "source": [
        "import pandas as pd\n",
        "from statsmodels.graphics.mosaicplot import mosaic\n",
        "import matplotlib.pyplot as plt\n",
        "from matplotlib import cm\n",
        "\n",
        "data = dirty_data\n",
        "\n",
        "# creating age groups\n",
        "bins = [18, 30, 45, 60, float('inf')]\n",
        "labels = ['19-30', '31-45', '46-60', '61+']\n",
        "data['Age Group'] = pd.cut(data['Age'], bins=bins, labels=labels, right=False)\n",
        "\n",
        "# selecting necessary columns and create a copy to avoid warnings\n",
        "plot_data = data[['Travel Insurance Purchased', 'Age Group', 'Class']].copy()\n",
        "\n",
        "# defining and ordering age groups, then sorting by age group\n",
        "plot_data['Age Group'] = pd.Categorical(plot_data['Age Group'],\n",
        "                                        categories=['19-30', '31-45', '46-60', '61+'],\n",
        "                                        ordered=True)\n",
        "\n",
        "# sorting data by age groups\n",
        "plot_data = plot_data.sort_values(by=['Age Group'])\n",
        "\n",
        "# creating the mosaic plot with our group color palette\n",
        "fig, ax = plt.subplots(figsize=(12, 8))\n",
        "mosaic(plot_data,\n",
        "       ['Travel Insurance Purchased', 'Class', 'Age Group'],\n",
        "       title='Mosaic Plot of Travel Insurance by Class and Age Group',\n",
        "       ax=ax,\n",
        "       properties={'color': cm.RdYlGn(0.5)},  # applying the group palette, which is RdYlGn\n",
        "       labelizer=lambda key: \"\")  # removing box labels using labelizer\n",
        "\n",
        "# customizing axis labels\n",
        "ax.set_xlabel('Travel Insurance (No / Yes)', fontsize=14)\n",
        "ax.set_ylabel('Class (Economy, Economy Plus, Business)', fontsize=14)\n",
        "\n",
        "# showing the plot\n",
        "plt.show()\n"
      ],
      "metadata": {
        "colab": {
          "base_uri": "https://localhost:8080/",
          "height": 747
        },
        "id": "mp-JLJuehjtV",
        "outputId": "b66e7591-8ea7-412f-b7dd-543253b2c0a2"
      },
      "execution_count": 64,
      "outputs": [
        {
          "output_type": "display_data",
          "data": {
            "text/plain": [
              "<Figure size 1200x800 with 3 Axes>"
            ],
            "image/png": "[encoded data removed]"
          },
          "metadata": {}
        }
      ]
    }
  ]
}